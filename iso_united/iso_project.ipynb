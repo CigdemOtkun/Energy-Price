{
 "cells": [
  {
   "cell_type": "code",
   "execution_count": null,
   "id": "0676b394-e64f-481c-b012-c7090d123302",
   "metadata": {},
   "outputs": [],
   "source": [
    "## United States ISO region energy market open source data gathered. After pre-processing works the final data was obtained for analysis. "
   ]
  },
  {
   "cell_type": "code",
   "execution_count": 1,
   "id": "146913c9-4422-4502-8335-513368d6280b",
   "metadata": {
    "tags": []
   },
   "outputs": [],
   "source": [
    "import pandas as pd\n",
    "import numpy as np\n",
    "import seaborn as sns\n",
    "import matplotlib.pyplot as plt"
   ]
  },
  {
   "cell_type": "code",
   "execution_count": 2,
   "id": "6e92988d-944e-4e7b-8570-4a371914daba",
   "metadata": {},
   "outputs": [
    {
     "data": {
      "text/html": [
       "<div>\n",
       "<style scoped>\n",
       "    .dataframe tbody tr th:only-of-type {\n",
       "        vertical-align: middle;\n",
       "    }\n",
       "\n",
       "    .dataframe tbody tr th {\n",
       "        vertical-align: top;\n",
       "    }\n",
       "\n",
       "    .dataframe thead th {\n",
       "        text-align: right;\n",
       "    }\n",
       "</style>\n",
       "<table border=\"1\" class=\"dataframe\">\n",
       "  <thead>\n",
       "    <tr style=\"text-align: right;\">\n",
       "      <th></th>\n",
       "      <th>Date</th>\n",
       "      <th>Hr_End</th>\n",
       "      <th>Zone_Name</th>\n",
       "      <th>DA_Demand</th>\n",
       "      <th>RT_Demand</th>\n",
       "      <th>DA_LMP</th>\n",
       "      <th>DA_EC</th>\n",
       "      <th>DA_CC</th>\n",
       "      <th>DA_MLC</th>\n",
       "      <th>RT_LMP</th>\n",
       "      <th>RT_EC</th>\n",
       "      <th>RT_CC</th>\n",
       "      <th>RT_MLC</th>\n",
       "      <th>Dry_Bulb</th>\n",
       "      <th>Dew_Point</th>\n",
       "    </tr>\n",
       "  </thead>\n",
       "  <tbody>\n",
       "    <tr>\n",
       "      <th>0</th>\n",
       "      <td>1/1/2019</td>\n",
       "      <td>1</td>\n",
       "      <td>ct</td>\n",
       "      <td>2667.3</td>\n",
       "      <td>2713.62</td>\n",
       "      <td>25.64</td>\n",
       "      <td>25.57</td>\n",
       "      <td>0.02</td>\n",
       "      <td>0.05</td>\n",
       "      <td>35.43</td>\n",
       "      <td>35.42</td>\n",
       "      <td>0.04</td>\n",
       "      <td>-0.03</td>\n",
       "      <td>38</td>\n",
       "      <td>38</td>\n",
       "    </tr>\n",
       "    <tr>\n",
       "      <th>1</th>\n",
       "      <td>1/1/2019</td>\n",
       "      <td>2</td>\n",
       "      <td>ct</td>\n",
       "      <td>2487.2</td>\n",
       "      <td>2578.34</td>\n",
       "      <td>20.56</td>\n",
       "      <td>20.44</td>\n",
       "      <td>0.01</td>\n",
       "      <td>0.11</td>\n",
       "      <td>38.57</td>\n",
       "      <td>38.38</td>\n",
       "      <td>0.00</td>\n",
       "      <td>0.19</td>\n",
       "      <td>38</td>\n",
       "      <td>38</td>\n",
       "    </tr>\n",
       "  </tbody>\n",
       "</table>\n",
       "</div>"
      ],
      "text/plain": [
       "       Date  Hr_End Zone_Name  DA_Demand  RT_Demand  DA_LMP  DA_EC  DA_CC  \\\n",
       "0  1/1/2019       1        ct     2667.3    2713.62   25.64  25.57   0.02   \n",
       "1  1/1/2019       2        ct     2487.2    2578.34   20.56  20.44   0.01   \n",
       "\n",
       "   DA_MLC  RT_LMP  RT_EC  RT_CC  RT_MLC  Dry_Bulb  Dew_Point  \n",
       "0    0.05   35.43  35.42   0.04   -0.03        38         38  \n",
       "1    0.11   38.57  38.38   0.00    0.19        38         38  "
      ]
     },
     "execution_count": 2,
     "metadata": {},
     "output_type": "execute_result"
    }
   ],
   "source": [
    "data_iso=pd.read_csv(\"iso_smd_hourly_2019_2023_united_byzone.csv\")\n",
    "df=data_iso.copy()\n",
    "df.head(2)"
   ]
  },
  {
   "cell_type": "code",
   "execution_count": null,
   "id": "691c75e8-726b-4a29-a373-0dde47cca4d2",
   "metadata": {},
   "outputs": [],
   "source": [
    "#Data Exploration"
   ]
  },
  {
   "cell_type": "code",
   "execution_count": 3,
   "id": "8eed6332-b2ad-464d-90b0-e94722206ed1",
   "metadata": {
    "collapsed": true,
    "jupyter": {
     "outputs_hidden": true
    },
    "tags": []
   },
   "outputs": [
    {
     "name": "stdout",
     "output_type": "stream",
     "text": [
      "<class 'pandas.core.frame.DataFrame'>\n",
      "RangeIndex: 350592 entries, 0 to 350591\n",
      "Data columns (total 15 columns):\n",
      " #   Column     Non-Null Count   Dtype  \n",
      "---  ------     --------------   -----  \n",
      " 0   Date       350592 non-null  object \n",
      " 1   Hr_End     350592 non-null  int64  \n",
      " 2   Zone_Name  350592 non-null  object \n",
      " 3   DA_Demand  350592 non-null  float64\n",
      " 4   RT_Demand  350592 non-null  float64\n",
      " 5   DA_LMP     350592 non-null  float64\n",
      " 6   DA_EC      350592 non-null  float64\n",
      " 7   DA_CC      350592 non-null  float64\n",
      " 8   DA_MLC     350592 non-null  float64\n",
      " 9   RT_LMP     350592 non-null  float64\n",
      " 10  RT_EC      350592 non-null  float64\n",
      " 11  RT_CC      350592 non-null  float64\n",
      " 12  RT_MLC     350592 non-null  float64\n",
      " 13  Dry_Bulb   350592 non-null  int64  \n",
      " 14  Dew_Point  350592 non-null  int64  \n",
      "dtypes: float64(10), int64(3), object(2)\n",
      "memory usage: 40.1+ MB\n"
     ]
    }
   ],
   "source": [
    "df.info()"
   ]
  },
  {
   "cell_type": "code",
   "execution_count": 4,
   "id": "ac9d3ee7-f600-47fe-a350-f29d2317540d",
   "metadata": {},
   "outputs": [
    {
     "data": {
      "text/plain": [
       "False"
      ]
     },
     "execution_count": 4,
     "metadata": {},
     "output_type": "execute_result"
    }
   ],
   "source": [
    "df.isnull().values.any()"
   ]
  },
  {
   "cell_type": "code",
   "execution_count": 5,
   "id": "fed4e407-3831-43b1-9304-cd77905852b9",
   "metadata": {
    "collapsed": true,
    "jupyter": {
     "outputs_hidden": true
    },
    "tags": []
   },
   "outputs": [
    {
     "data": {
      "text/plain": [
       "ct      43824\n",
       "me      43824\n",
       "nema    43824\n",
       "nh      43824\n",
       "ri      43824\n",
       "sema    43824\n",
       "vt      43824\n",
       "wcma    43824\n",
       "Name: Zone_Name, dtype: int64"
      ]
     },
     "execution_count": 5,
     "metadata": {},
     "output_type": "execute_result"
    }
   ],
   "source": [
    "df[\"Zone_Name\"].value_counts()"
   ]
  },
  {
   "cell_type": "code",
   "execution_count": 6,
   "id": "6b0ff076-4660-4d64-97cb-0c5d840cf130",
   "metadata": {
    "collapsed": true,
    "jupyter": {
     "outputs_hidden": true
    },
    "tags": []
   },
   "outputs": [
    {
     "data": {
      "text/html": [
       "<div>\n",
       "<style scoped>\n",
       "    .dataframe tbody tr th:only-of-type {\n",
       "        vertical-align: middle;\n",
       "    }\n",
       "\n",
       "    .dataframe tbody tr th {\n",
       "        vertical-align: top;\n",
       "    }\n",
       "\n",
       "    .dataframe thead th {\n",
       "        text-align: right;\n",
       "    }\n",
       "</style>\n",
       "<table border=\"1\" class=\"dataframe\">\n",
       "  <thead>\n",
       "    <tr style=\"text-align: right;\">\n",
       "      <th></th>\n",
       "      <th>count</th>\n",
       "      <th>mean</th>\n",
       "      <th>std</th>\n",
       "      <th>min</th>\n",
       "      <th>25%</th>\n",
       "      <th>50%</th>\n",
       "      <th>75%</th>\n",
       "      <th>max</th>\n",
       "    </tr>\n",
       "  </thead>\n",
       "  <tbody>\n",
       "    <tr>\n",
       "      <th>Hr_End</th>\n",
       "      <td>350592.0</td>\n",
       "      <td>12.500000</td>\n",
       "      <td>6.922196</td>\n",
       "      <td>1.00</td>\n",
       "      <td>6.75</td>\n",
       "      <td>12.50</td>\n",
       "      <td>18.2500</td>\n",
       "      <td>24.00</td>\n",
       "    </tr>\n",
       "    <tr>\n",
       "      <th>DA_Demand</th>\n",
       "      <td>350592.0</td>\n",
       "      <td>1612.509122</td>\n",
       "      <td>931.151704</td>\n",
       "      <td>-95.30</td>\n",
       "      <td>903.80</td>\n",
       "      <td>1370.30</td>\n",
       "      <td>2186.2250</td>\n",
       "      <td>6582.20</td>\n",
       "    </tr>\n",
       "    <tr>\n",
       "      <th>RT_Demand</th>\n",
       "      <td>350592.0</td>\n",
       "      <td>1650.837524</td>\n",
       "      <td>900.456236</td>\n",
       "      <td>112.48</td>\n",
       "      <td>993.22</td>\n",
       "      <td>1435.37</td>\n",
       "      <td>2158.3925</td>\n",
       "      <td>6504.65</td>\n",
       "    </tr>\n",
       "    <tr>\n",
       "      <th>DA_LMP</th>\n",
       "      <td>350592.0</td>\n",
       "      <td>44.391417</td>\n",
       "      <td>35.918699</td>\n",
       "      <td>6.26</td>\n",
       "      <td>22.47</td>\n",
       "      <td>32.29</td>\n",
       "      <td>53.4200</td>\n",
       "      <td>376.91</td>\n",
       "    </tr>\n",
       "    <tr>\n",
       "      <th>DA_EC</th>\n",
       "      <td>350592.0</td>\n",
       "      <td>44.434994</td>\n",
       "      <td>35.905870</td>\n",
       "      <td>6.33</td>\n",
       "      <td>22.51</td>\n",
       "      <td>32.33</td>\n",
       "      <td>53.5200</td>\n",
       "      <td>373.15</td>\n",
       "    </tr>\n",
       "    <tr>\n",
       "      <th>DA_CC</th>\n",
       "      <td>350592.0</td>\n",
       "      <td>-0.012955</td>\n",
       "      <td>1.151742</td>\n",
       "      <td>-59.25</td>\n",
       "      <td>0.00</td>\n",
       "      <td>0.00</td>\n",
       "      <td>0.0100</td>\n",
       "      <td>114.45</td>\n",
       "    </tr>\n",
       "    <tr>\n",
       "      <th>DA_MLC</th>\n",
       "      <td>350592.0</td>\n",
       "      <td>-0.030622</td>\n",
       "      <td>0.768278</td>\n",
       "      <td>-14.53</td>\n",
       "      <td>-0.29</td>\n",
       "      <td>0.06</td>\n",
       "      <td>0.3000</td>\n",
       "      <td>9.13</td>\n",
       "    </tr>\n",
       "    <tr>\n",
       "      <th>RT_LMP</th>\n",
       "      <td>350592.0</td>\n",
       "      <td>43.704006</td>\n",
       "      <td>42.579094</td>\n",
       "      <td>-151.82</td>\n",
       "      <td>20.45</td>\n",
       "      <td>31.04</td>\n",
       "      <td>51.8300</td>\n",
       "      <td>2274.99</td>\n",
       "    </tr>\n",
       "    <tr>\n",
       "      <th>RT_EC</th>\n",
       "      <td>350592.0</td>\n",
       "      <td>43.733683</td>\n",
       "      <td>42.578826</td>\n",
       "      <td>-151.17</td>\n",
       "      <td>20.48</td>\n",
       "      <td>31.05</td>\n",
       "      <td>51.8900</td>\n",
       "      <td>2239.32</td>\n",
       "    </tr>\n",
       "    <tr>\n",
       "      <th>RT_CC</th>\n",
       "      <td>350592.0</td>\n",
       "      <td>-0.012942</td>\n",
       "      <td>0.760505</td>\n",
       "      <td>-89.66</td>\n",
       "      <td>0.00</td>\n",
       "      <td>0.00</td>\n",
       "      <td>0.0000</td>\n",
       "      <td>58.37</td>\n",
       "    </tr>\n",
       "    <tr>\n",
       "      <th>RT_MLC</th>\n",
       "      <td>350592.0</td>\n",
       "      <td>-0.016735</td>\n",
       "      <td>0.843173</td>\n",
       "      <td>-52.15</td>\n",
       "      <td>-0.24</td>\n",
       "      <td>0.05</td>\n",
       "      <td>0.2700</td>\n",
       "      <td>35.67</td>\n",
       "    </tr>\n",
       "    <tr>\n",
       "      <th>Dry_Bulb</th>\n",
       "      <td>350592.0</td>\n",
       "      <td>51.207720</td>\n",
       "      <td>18.413896</td>\n",
       "      <td>-15.00</td>\n",
       "      <td>37.00</td>\n",
       "      <td>51.00</td>\n",
       "      <td>66.0000</td>\n",
       "      <td>100.00</td>\n",
       "    </tr>\n",
       "    <tr>\n",
       "      <th>Dew_Point</th>\n",
       "      <td>350592.0</td>\n",
       "      <td>39.746860</td>\n",
       "      <td>19.311589</td>\n",
       "      <td>-34.00</td>\n",
       "      <td>25.00</td>\n",
       "      <td>41.00</td>\n",
       "      <td>56.0000</td>\n",
       "      <td>79.00</td>\n",
       "    </tr>\n",
       "  </tbody>\n",
       "</table>\n",
       "</div>"
      ],
      "text/plain": [
       "              count         mean         std     min     25%      50%  \\\n",
       "Hr_End     350592.0    12.500000    6.922196    1.00    6.75    12.50   \n",
       "DA_Demand  350592.0  1612.509122  931.151704  -95.30  903.80  1370.30   \n",
       "RT_Demand  350592.0  1650.837524  900.456236  112.48  993.22  1435.37   \n",
       "DA_LMP     350592.0    44.391417   35.918699    6.26   22.47    32.29   \n",
       "DA_EC      350592.0    44.434994   35.905870    6.33   22.51    32.33   \n",
       "DA_CC      350592.0    -0.012955    1.151742  -59.25    0.00     0.00   \n",
       "DA_MLC     350592.0    -0.030622    0.768278  -14.53   -0.29     0.06   \n",
       "RT_LMP     350592.0    43.704006   42.579094 -151.82   20.45    31.04   \n",
       "RT_EC      350592.0    43.733683   42.578826 -151.17   20.48    31.05   \n",
       "RT_CC      350592.0    -0.012942    0.760505  -89.66    0.00     0.00   \n",
       "RT_MLC     350592.0    -0.016735    0.843173  -52.15   -0.24     0.05   \n",
       "Dry_Bulb   350592.0    51.207720   18.413896  -15.00   37.00    51.00   \n",
       "Dew_Point  350592.0    39.746860   19.311589  -34.00   25.00    41.00   \n",
       "\n",
       "                 75%      max  \n",
       "Hr_End       18.2500    24.00  \n",
       "DA_Demand  2186.2250  6582.20  \n",
       "RT_Demand  2158.3925  6504.65  \n",
       "DA_LMP       53.4200   376.91  \n",
       "DA_EC        53.5200   373.15  \n",
       "DA_CC         0.0100   114.45  \n",
       "DA_MLC        0.3000     9.13  \n",
       "RT_LMP       51.8300  2274.99  \n",
       "RT_EC        51.8900  2239.32  \n",
       "RT_CC         0.0000    58.37  \n",
       "RT_MLC        0.2700    35.67  \n",
       "Dry_Bulb     66.0000   100.00  \n",
       "Dew_Point    56.0000    79.00  "
      ]
     },
     "execution_count": 6,
     "metadata": {},
     "output_type": "execute_result"
    }
   ],
   "source": [
    "df.describe().T"
   ]
  },
  {
   "cell_type": "code",
   "execution_count": 7,
   "id": "14baa299-d26c-44a1-9ccb-1c23b3043323",
   "metadata": {
    "collapsed": true,
    "jupyter": {
     "outputs_hidden": true
    },
    "tags": []
   },
   "outputs": [
    {
     "data": {
      "text/html": [
       "<div>\n",
       "<style scoped>\n",
       "    .dataframe tbody tr th:only-of-type {\n",
       "        vertical-align: middle;\n",
       "    }\n",
       "\n",
       "    .dataframe tbody tr th {\n",
       "        vertical-align: top;\n",
       "    }\n",
       "\n",
       "    .dataframe thead th {\n",
       "        text-align: right;\n",
       "    }\n",
       "</style>\n",
       "<table border=\"1\" class=\"dataframe\">\n",
       "  <thead>\n",
       "    <tr style=\"text-align: right;\">\n",
       "      <th></th>\n",
       "      <th>Hr_End</th>\n",
       "      <th>DA_Demand</th>\n",
       "      <th>RT_Demand</th>\n",
       "      <th>DA_LMP</th>\n",
       "      <th>DA_EC</th>\n",
       "      <th>DA_CC</th>\n",
       "      <th>DA_MLC</th>\n",
       "      <th>RT_LMP</th>\n",
       "      <th>RT_EC</th>\n",
       "      <th>RT_CC</th>\n",
       "      <th>RT_MLC</th>\n",
       "      <th>Dry_Bulb</th>\n",
       "      <th>Dew_Point</th>\n",
       "    </tr>\n",
       "  </thead>\n",
       "  <tbody>\n",
       "    <tr>\n",
       "      <th>Hr_End</th>\n",
       "      <td>1.000000</td>\n",
       "      <td>0.134714</td>\n",
       "      <td>0.159440</td>\n",
       "      <td>0.112997</td>\n",
       "      <td>0.113460</td>\n",
       "      <td>-0.003495</td>\n",
       "      <td>-0.014506</td>\n",
       "      <td>0.090902</td>\n",
       "      <td>0.091249</td>\n",
       "      <td>-0.002560</td>\n",
       "      <td>-0.015193</td>\n",
       "      <td>0.135084</td>\n",
       "      <td>0.009946</td>\n",
       "    </tr>\n",
       "    <tr>\n",
       "      <th>DA_Demand</th>\n",
       "      <td>0.134714</td>\n",
       "      <td>1.000000</td>\n",
       "      <td>0.983231</td>\n",
       "      <td>0.146851</td>\n",
       "      <td>0.147107</td>\n",
       "      <td>0.003999</td>\n",
       "      <td>-0.015529</td>\n",
       "      <td>0.122184</td>\n",
       "      <td>0.120628</td>\n",
       "      <td>0.045490</td>\n",
       "      <td>0.037603</td>\n",
       "      <td>0.130466</td>\n",
       "      <td>0.075397</td>\n",
       "    </tr>\n",
       "    <tr>\n",
       "      <th>RT_Demand</th>\n",
       "      <td>0.159440</td>\n",
       "      <td>0.983231</td>\n",
       "      <td>1.000000</td>\n",
       "      <td>0.155462</td>\n",
       "      <td>0.156180</td>\n",
       "      <td>0.000443</td>\n",
       "      <td>-0.031648</td>\n",
       "      <td>0.138406</td>\n",
       "      <td>0.137220</td>\n",
       "      <td>0.030370</td>\n",
       "      <td>0.032551</td>\n",
       "      <td>0.132716</td>\n",
       "      <td>0.072292</td>\n",
       "    </tr>\n",
       "    <tr>\n",
       "      <th>DA_LMP</th>\n",
       "      <td>0.112997</td>\n",
       "      <td>0.146851</td>\n",
       "      <td>0.155462</td>\n",
       "      <td>1.000000</td>\n",
       "      <td>0.999146</td>\n",
       "      <td>0.027823</td>\n",
       "      <td>0.014890</td>\n",
       "      <td>0.837538</td>\n",
       "      <td>0.837288</td>\n",
       "      <td>-0.006794</td>\n",
       "      <td>0.019028</td>\n",
       "      <td>-0.216578</td>\n",
       "      <td>-0.230884</td>\n",
       "    </tr>\n",
       "    <tr>\n",
       "      <th>DA_EC</th>\n",
       "      <td>0.113460</td>\n",
       "      <td>0.147107</td>\n",
       "      <td>0.156180</td>\n",
       "      <td>0.999146</td>\n",
       "      <td>1.000000</td>\n",
       "      <td>-0.007697</td>\n",
       "      <td>-0.011679</td>\n",
       "      <td>0.837596</td>\n",
       "      <td>0.837890</td>\n",
       "      <td>-0.012924</td>\n",
       "      <td>-0.002961</td>\n",
       "      <td>-0.217129</td>\n",
       "      <td>-0.231595</td>\n",
       "    </tr>\n",
       "    <tr>\n",
       "      <th>DA_CC</th>\n",
       "      <td>-0.003495</td>\n",
       "      <td>0.003999</td>\n",
       "      <td>0.000443</td>\n",
       "      <td>0.027823</td>\n",
       "      <td>-0.007697</td>\n",
       "      <td>1.000000</td>\n",
       "      <td>0.161405</td>\n",
       "      <td>-0.001099</td>\n",
       "      <td>-0.005354</td>\n",
       "      <td>0.082972</td>\n",
       "      <td>0.140030</td>\n",
       "      <td>0.003402</td>\n",
       "      <td>0.003452</td>\n",
       "    </tr>\n",
       "    <tr>\n",
       "      <th>DA_MLC</th>\n",
       "      <td>-0.014506</td>\n",
       "      <td>-0.015529</td>\n",
       "      <td>-0.031648</td>\n",
       "      <td>0.014890</td>\n",
       "      <td>-0.011679</td>\n",
       "      <td>0.161405</td>\n",
       "      <td>1.000000</td>\n",
       "      <td>0.012937</td>\n",
       "      <td>-0.006157</td>\n",
       "      <td>0.161992</td>\n",
       "      <td>0.818066</td>\n",
       "      <td>0.017055</td>\n",
       "      <td>0.024202</td>\n",
       "    </tr>\n",
       "    <tr>\n",
       "      <th>RT_LMP</th>\n",
       "      <td>0.090902</td>\n",
       "      <td>0.122184</td>\n",
       "      <td>0.138406</td>\n",
       "      <td>0.837538</td>\n",
       "      <td>0.837596</td>\n",
       "      <td>-0.001099</td>\n",
       "      <td>0.012937</td>\n",
       "      <td>1.000000</td>\n",
       "      <td>0.999581</td>\n",
       "      <td>0.006411</td>\n",
       "      <td>0.015700</td>\n",
       "      <td>-0.190663</td>\n",
       "      <td>-0.190039</td>\n",
       "    </tr>\n",
       "    <tr>\n",
       "      <th>RT_EC</th>\n",
       "      <td>0.091249</td>\n",
       "      <td>0.120628</td>\n",
       "      <td>0.137220</td>\n",
       "      <td>0.837288</td>\n",
       "      <td>0.837890</td>\n",
       "      <td>-0.005354</td>\n",
       "      <td>-0.006157</td>\n",
       "      <td>0.999581</td>\n",
       "      <td>1.000000</td>\n",
       "      <td>-0.015008</td>\n",
       "      <td>-0.007311</td>\n",
       "      <td>-0.190675</td>\n",
       "      <td>-0.190209</td>\n",
       "    </tr>\n",
       "    <tr>\n",
       "      <th>RT_CC</th>\n",
       "      <td>-0.002560</td>\n",
       "      <td>0.045490</td>\n",
       "      <td>0.030370</td>\n",
       "      <td>-0.006794</td>\n",
       "      <td>-0.012924</td>\n",
       "      <td>0.082972</td>\n",
       "      <td>0.161992</td>\n",
       "      <td>0.006411</td>\n",
       "      <td>-0.015008</td>\n",
       "      <td>1.000000</td>\n",
       "      <td>0.179659</td>\n",
       "      <td>0.010354</td>\n",
       "      <td>0.008807</td>\n",
       "    </tr>\n",
       "    <tr>\n",
       "      <th>RT_MLC</th>\n",
       "      <td>-0.015193</td>\n",
       "      <td>0.037603</td>\n",
       "      <td>0.032551</td>\n",
       "      <td>0.019028</td>\n",
       "      <td>-0.002961</td>\n",
       "      <td>0.140030</td>\n",
       "      <td>0.818066</td>\n",
       "      <td>0.015700</td>\n",
       "      <td>-0.007311</td>\n",
       "      <td>0.179659</td>\n",
       "      <td>1.000000</td>\n",
       "      <td>-0.008765</td>\n",
       "      <td>0.000616</td>\n",
       "    </tr>\n",
       "    <tr>\n",
       "      <th>Dry_Bulb</th>\n",
       "      <td>0.135084</td>\n",
       "      <td>0.130466</td>\n",
       "      <td>0.132716</td>\n",
       "      <td>-0.216578</td>\n",
       "      <td>-0.217129</td>\n",
       "      <td>0.003402</td>\n",
       "      <td>0.017055</td>\n",
       "      <td>-0.190663</td>\n",
       "      <td>-0.190675</td>\n",
       "      <td>0.010354</td>\n",
       "      <td>-0.008765</td>\n",
       "      <td>1.000000</td>\n",
       "      <td>0.889916</td>\n",
       "    </tr>\n",
       "    <tr>\n",
       "      <th>Dew_Point</th>\n",
       "      <td>0.009946</td>\n",
       "      <td>0.075397</td>\n",
       "      <td>0.072292</td>\n",
       "      <td>-0.230884</td>\n",
       "      <td>-0.231595</td>\n",
       "      <td>0.003452</td>\n",
       "      <td>0.024202</td>\n",
       "      <td>-0.190039</td>\n",
       "      <td>-0.190209</td>\n",
       "      <td>0.008807</td>\n",
       "      <td>0.000616</td>\n",
       "      <td>0.889916</td>\n",
       "      <td>1.000000</td>\n",
       "    </tr>\n",
       "  </tbody>\n",
       "</table>\n",
       "</div>"
      ],
      "text/plain": [
       "             Hr_End  DA_Demand  RT_Demand    DA_LMP     DA_EC     DA_CC  \\\n",
       "Hr_End     1.000000   0.134714   0.159440  0.112997  0.113460 -0.003495   \n",
       "DA_Demand  0.134714   1.000000   0.983231  0.146851  0.147107  0.003999   \n",
       "RT_Demand  0.159440   0.983231   1.000000  0.155462  0.156180  0.000443   \n",
       "DA_LMP     0.112997   0.146851   0.155462  1.000000  0.999146  0.027823   \n",
       "DA_EC      0.113460   0.147107   0.156180  0.999146  1.000000 -0.007697   \n",
       "DA_CC     -0.003495   0.003999   0.000443  0.027823 -0.007697  1.000000   \n",
       "DA_MLC    -0.014506  -0.015529  -0.031648  0.014890 -0.011679  0.161405   \n",
       "RT_LMP     0.090902   0.122184   0.138406  0.837538  0.837596 -0.001099   \n",
       "RT_EC      0.091249   0.120628   0.137220  0.837288  0.837890 -0.005354   \n",
       "RT_CC     -0.002560   0.045490   0.030370 -0.006794 -0.012924  0.082972   \n",
       "RT_MLC    -0.015193   0.037603   0.032551  0.019028 -0.002961  0.140030   \n",
       "Dry_Bulb   0.135084   0.130466   0.132716 -0.216578 -0.217129  0.003402   \n",
       "Dew_Point  0.009946   0.075397   0.072292 -0.230884 -0.231595  0.003452   \n",
       "\n",
       "             DA_MLC    RT_LMP     RT_EC     RT_CC    RT_MLC  Dry_Bulb  \\\n",
       "Hr_End    -0.014506  0.090902  0.091249 -0.002560 -0.015193  0.135084   \n",
       "DA_Demand -0.015529  0.122184  0.120628  0.045490  0.037603  0.130466   \n",
       "RT_Demand -0.031648  0.138406  0.137220  0.030370  0.032551  0.132716   \n",
       "DA_LMP     0.014890  0.837538  0.837288 -0.006794  0.019028 -0.216578   \n",
       "DA_EC     -0.011679  0.837596  0.837890 -0.012924 -0.002961 -0.217129   \n",
       "DA_CC      0.161405 -0.001099 -0.005354  0.082972  0.140030  0.003402   \n",
       "DA_MLC     1.000000  0.012937 -0.006157  0.161992  0.818066  0.017055   \n",
       "RT_LMP     0.012937  1.000000  0.999581  0.006411  0.015700 -0.190663   \n",
       "RT_EC     -0.006157  0.999581  1.000000 -0.015008 -0.007311 -0.190675   \n",
       "RT_CC      0.161992  0.006411 -0.015008  1.000000  0.179659  0.010354   \n",
       "RT_MLC     0.818066  0.015700 -0.007311  0.179659  1.000000 -0.008765   \n",
       "Dry_Bulb   0.017055 -0.190663 -0.190675  0.010354 -0.008765  1.000000   \n",
       "Dew_Point  0.024202 -0.190039 -0.190209  0.008807  0.000616  0.889916   \n",
       "\n",
       "           Dew_Point  \n",
       "Hr_End      0.009946  \n",
       "DA_Demand   0.075397  \n",
       "RT_Demand   0.072292  \n",
       "DA_LMP     -0.230884  \n",
       "DA_EC      -0.231595  \n",
       "DA_CC       0.003452  \n",
       "DA_MLC      0.024202  \n",
       "RT_LMP     -0.190039  \n",
       "RT_EC      -0.190209  \n",
       "RT_CC       0.008807  \n",
       "RT_MLC      0.000616  \n",
       "Dry_Bulb    0.889916  \n",
       "Dew_Point   1.000000  "
      ]
     },
     "execution_count": 7,
     "metadata": {},
     "output_type": "execute_result"
    }
   ],
   "source": [
    "df.corr()"
   ]
  },
  {
   "cell_type": "code",
   "execution_count": null,
   "id": "77a8455f-c537-40a7-852c-7b85aaa62bd5",
   "metadata": {},
   "outputs": [],
   "source": [
    "#Delete irrelevant columns"
   ]
  },
  {
   "cell_type": "code",
   "execution_count": 8,
   "id": "b8867b5f-7ef2-4ca7-8a8d-2bc8188478bf",
   "metadata": {},
   "outputs": [
    {
     "data": {
      "text/html": [
       "<div>\n",
       "<style scoped>\n",
       "    .dataframe tbody tr th:only-of-type {\n",
       "        vertical-align: middle;\n",
       "    }\n",
       "\n",
       "    .dataframe tbody tr th {\n",
       "        vertical-align: top;\n",
       "    }\n",
       "\n",
       "    .dataframe thead th {\n",
       "        text-align: right;\n",
       "    }\n",
       "</style>\n",
       "<table border=\"1\" class=\"dataframe\">\n",
       "  <thead>\n",
       "    <tr style=\"text-align: right;\">\n",
       "      <th></th>\n",
       "      <th>Date</th>\n",
       "      <th>Hr_End</th>\n",
       "      <th>Zone_Name</th>\n",
       "      <th>DA_Demand</th>\n",
       "      <th>RT_Demand</th>\n",
       "      <th>DA_LMP</th>\n",
       "      <th>DA_EC</th>\n",
       "      <th>DA_CC</th>\n",
       "      <th>DA_MLC</th>\n",
       "      <th>RT_LMP</th>\n",
       "      <th>RT_EC</th>\n",
       "      <th>RT_CC</th>\n",
       "      <th>RT_MLC</th>\n",
       "      <th>Dry_Bulb</th>\n",
       "      <th>Dew_Point</th>\n",
       "    </tr>\n",
       "  </thead>\n",
       "  <tbody>\n",
       "    <tr>\n",
       "      <th>0</th>\n",
       "      <td>1/1/2019</td>\n",
       "      <td>1</td>\n",
       "      <td>ct</td>\n",
       "      <td>2667.3</td>\n",
       "      <td>2713.62</td>\n",
       "      <td>25.64</td>\n",
       "      <td>25.57</td>\n",
       "      <td>0.02</td>\n",
       "      <td>0.05</td>\n",
       "      <td>35.43</td>\n",
       "      <td>35.42</td>\n",
       "      <td>0.04</td>\n",
       "      <td>-0.03</td>\n",
       "      <td>38</td>\n",
       "      <td>38</td>\n",
       "    </tr>\n",
       "    <tr>\n",
       "      <th>1</th>\n",
       "      <td>1/1/2019</td>\n",
       "      <td>2</td>\n",
       "      <td>ct</td>\n",
       "      <td>2487.2</td>\n",
       "      <td>2578.34</td>\n",
       "      <td>20.56</td>\n",
       "      <td>20.44</td>\n",
       "      <td>0.01</td>\n",
       "      <td>0.11</td>\n",
       "      <td>38.57</td>\n",
       "      <td>38.38</td>\n",
       "      <td>0.00</td>\n",
       "      <td>0.19</td>\n",
       "      <td>38</td>\n",
       "      <td>38</td>\n",
       "    </tr>\n",
       "  </tbody>\n",
       "</table>\n",
       "</div>"
      ],
      "text/plain": [
       "       Date  Hr_End Zone_Name  DA_Demand  RT_Demand  DA_LMP  DA_EC  DA_CC  \\\n",
       "0  1/1/2019       1        ct     2667.3    2713.62   25.64  25.57   0.02   \n",
       "1  1/1/2019       2        ct     2487.2    2578.34   20.56  20.44   0.01   \n",
       "\n",
       "   DA_MLC  RT_LMP  RT_EC  RT_CC  RT_MLC  Dry_Bulb  Dew_Point  \n",
       "0    0.05   35.43  35.42   0.04   -0.03        38         38  \n",
       "1    0.11   38.57  38.38   0.00    0.19        38         38  "
      ]
     },
     "execution_count": 8,
     "metadata": {},
     "output_type": "execute_result"
    }
   ],
   "source": [
    "df0=df.copy()\n",
    "df0.head(2)"
   ]
  },
  {
   "cell_type": "code",
   "execution_count": 9,
   "id": "b659a011-94e0-4da6-9004-46cc273a569b",
   "metadata": {},
   "outputs": [],
   "source": [
    "df0=df0.drop(columns=[\"DA_Demand\",\"RT_Demand\",\"DA_CC\",\"DA_MLC\",\"DA_EC\",\"RT_CC\",\"RT_MLC\",\"Dew_Point\"])"
   ]
  },
  {
   "cell_type": "code",
   "execution_count": 11,
   "id": "8fe57a10-b1e9-41ce-8b97-b61ccb8dfd79",
   "metadata": {},
   "outputs": [
    {
     "data": {
      "text/html": [
       "<div>\n",
       "<style scoped>\n",
       "    .dataframe tbody tr th:only-of-type {\n",
       "        vertical-align: middle;\n",
       "    }\n",
       "\n",
       "    .dataframe tbody tr th {\n",
       "        vertical-align: top;\n",
       "    }\n",
       "\n",
       "    .dataframe thead th {\n",
       "        text-align: right;\n",
       "    }\n",
       "</style>\n",
       "<table border=\"1\" class=\"dataframe\">\n",
       "  <thead>\n",
       "    <tr style=\"text-align: right;\">\n",
       "      <th></th>\n",
       "      <th>Date</th>\n",
       "      <th>Hr_End</th>\n",
       "      <th>Zone_Name</th>\n",
       "      <th>DA_LMP</th>\n",
       "      <th>RT_LMP</th>\n",
       "      <th>RT_EC</th>\n",
       "      <th>Dry_Bulb</th>\n",
       "    </tr>\n",
       "  </thead>\n",
       "  <tbody>\n",
       "    <tr>\n",
       "      <th>0</th>\n",
       "      <td>1/1/2019</td>\n",
       "      <td>1</td>\n",
       "      <td>ct</td>\n",
       "      <td>25.64</td>\n",
       "      <td>35.43</td>\n",
       "      <td>35.42</td>\n",
       "      <td>38</td>\n",
       "    </tr>\n",
       "    <tr>\n",
       "      <th>1</th>\n",
       "      <td>1/1/2019</td>\n",
       "      <td>2</td>\n",
       "      <td>ct</td>\n",
       "      <td>20.56</td>\n",
       "      <td>38.57</td>\n",
       "      <td>38.38</td>\n",
       "      <td>38</td>\n",
       "    </tr>\n",
       "  </tbody>\n",
       "</table>\n",
       "</div>"
      ],
      "text/plain": [
       "       Date  Hr_End Zone_Name  DA_LMP  RT_LMP  RT_EC  Dry_Bulb\n",
       "0  1/1/2019       1        ct   25.64   35.43  35.42        38\n",
       "1  1/1/2019       2        ct   20.56   38.57  38.38        38"
      ]
     },
     "execution_count": 11,
     "metadata": {},
     "output_type": "execute_result"
    }
   ],
   "source": [
    "df0.head(2)"
   ]
  },
  {
   "cell_type": "code",
   "execution_count": null,
   "id": "7c911c45-eee1-423f-9716-64977030a16c",
   "metadata": {},
   "outputs": [],
   "source": [
    "##Getting Dates by datetime"
   ]
  },
  {
   "cell_type": "code",
   "execution_count": 12,
   "id": "65ba0911-9a30-4c0a-828a-9f9aeeccca95",
   "metadata": {},
   "outputs": [
    {
     "data": {
      "text/html": [
       "<div>\n",
       "<style scoped>\n",
       "    .dataframe tbody tr th:only-of-type {\n",
       "        vertical-align: middle;\n",
       "    }\n",
       "\n",
       "    .dataframe tbody tr th {\n",
       "        vertical-align: top;\n",
       "    }\n",
       "\n",
       "    .dataframe thead th {\n",
       "        text-align: right;\n",
       "    }\n",
       "</style>\n",
       "<table border=\"1\" class=\"dataframe\">\n",
       "  <thead>\n",
       "    <tr style=\"text-align: right;\">\n",
       "      <th></th>\n",
       "      <th>Date</th>\n",
       "      <th>Hr_End</th>\n",
       "      <th>Zone_Name</th>\n",
       "      <th>DA_LMP</th>\n",
       "      <th>RT_LMP</th>\n",
       "      <th>RT_EC</th>\n",
       "      <th>Dry_Bulb</th>\n",
       "    </tr>\n",
       "  </thead>\n",
       "  <tbody>\n",
       "    <tr>\n",
       "      <th>0</th>\n",
       "      <td>1/1/2019</td>\n",
       "      <td>1</td>\n",
       "      <td>ct</td>\n",
       "      <td>25.64</td>\n",
       "      <td>35.43</td>\n",
       "      <td>35.42</td>\n",
       "      <td>38</td>\n",
       "    </tr>\n",
       "    <tr>\n",
       "      <th>1</th>\n",
       "      <td>1/1/2019</td>\n",
       "      <td>2</td>\n",
       "      <td>ct</td>\n",
       "      <td>20.56</td>\n",
       "      <td>38.57</td>\n",
       "      <td>38.38</td>\n",
       "      <td>38</td>\n",
       "    </tr>\n",
       "  </tbody>\n",
       "</table>\n",
       "</div>"
      ],
      "text/plain": [
       "       Date  Hr_End Zone_Name  DA_LMP  RT_LMP  RT_EC  Dry_Bulb\n",
       "0  1/1/2019       1        ct   25.64   35.43  35.42        38\n",
       "1  1/1/2019       2        ct   20.56   38.57  38.38        38"
      ]
     },
     "execution_count": 12,
     "metadata": {},
     "output_type": "execute_result"
    }
   ],
   "source": [
    "df1=df0.copy()\n",
    "df1.head(2)"
   ]
  },
  {
   "cell_type": "code",
   "execution_count": 13,
   "id": "cbdaee2d-c31a-4def-bdc8-047eed716296",
   "metadata": {},
   "outputs": [],
   "source": [
    "from datetime import datetime"
   ]
  },
  {
   "cell_type": "code",
   "execution_count": 14,
   "id": "d6ada05c-0eda-4be8-8cf8-6622c4e79c3a",
   "metadata": {},
   "outputs": [],
   "source": [
    "df1[\"Date_New\"]=pd.to_datetime(df1[\"Date\"])"
   ]
  },
  {
   "cell_type": "code",
   "execution_count": 15,
   "id": "70be2581-c37d-41e1-b7de-98fece578abd",
   "metadata": {},
   "outputs": [
    {
     "data": {
      "text/html": [
       "<div>\n",
       "<style scoped>\n",
       "    .dataframe tbody tr th:only-of-type {\n",
       "        vertical-align: middle;\n",
       "    }\n",
       "\n",
       "    .dataframe tbody tr th {\n",
       "        vertical-align: top;\n",
       "    }\n",
       "\n",
       "    .dataframe thead th {\n",
       "        text-align: right;\n",
       "    }\n",
       "</style>\n",
       "<table border=\"1\" class=\"dataframe\">\n",
       "  <thead>\n",
       "    <tr style=\"text-align: right;\">\n",
       "      <th></th>\n",
       "      <th>Date</th>\n",
       "      <th>Hr_End</th>\n",
       "      <th>Zone_Name</th>\n",
       "      <th>DA_LMP</th>\n",
       "      <th>RT_LMP</th>\n",
       "      <th>RT_EC</th>\n",
       "      <th>Dry_Bulb</th>\n",
       "      <th>Date_New</th>\n",
       "    </tr>\n",
       "  </thead>\n",
       "  <tbody>\n",
       "    <tr>\n",
       "      <th>0</th>\n",
       "      <td>1/1/2019</td>\n",
       "      <td>1</td>\n",
       "      <td>ct</td>\n",
       "      <td>25.64</td>\n",
       "      <td>35.43</td>\n",
       "      <td>35.42</td>\n",
       "      <td>38</td>\n",
       "      <td>2019-01-01</td>\n",
       "    </tr>\n",
       "    <tr>\n",
       "      <th>1</th>\n",
       "      <td>1/1/2019</td>\n",
       "      <td>2</td>\n",
       "      <td>ct</td>\n",
       "      <td>20.56</td>\n",
       "      <td>38.57</td>\n",
       "      <td>38.38</td>\n",
       "      <td>38</td>\n",
       "      <td>2019-01-01</td>\n",
       "    </tr>\n",
       "  </tbody>\n",
       "</table>\n",
       "</div>"
      ],
      "text/plain": [
       "       Date  Hr_End Zone_Name  DA_LMP  RT_LMP  RT_EC  Dry_Bulb   Date_New\n",
       "0  1/1/2019       1        ct   25.64   35.43  35.42        38 2019-01-01\n",
       "1  1/1/2019       2        ct   20.56   38.57  38.38        38 2019-01-01"
      ]
     },
     "execution_count": 15,
     "metadata": {},
     "output_type": "execute_result"
    }
   ],
   "source": [
    "df1.head(2)"
   ]
  },
  {
   "cell_type": "code",
   "execution_count": 16,
   "id": "4528a63f-917d-47f7-88a2-113136a5cdb1",
   "metadata": {},
   "outputs": [],
   "source": [
    "df1[\"year\"], df1[\"month\"], df1[\"day\"], df1[\"week\"] = df1['Date_New'].dt.year, df1['Date_New'].dt.month, df1['Date_New'].dt.day_name(), df1['Date_New'].dt.isocalendar().week"
   ]
  },
  {
   "cell_type": "code",
   "execution_count": 17,
   "id": "260ab8ff-0606-41c0-83d9-3ef5746558b2",
   "metadata": {},
   "outputs": [
    {
     "data": {
      "text/html": [
       "<div>\n",
       "<style scoped>\n",
       "    .dataframe tbody tr th:only-of-type {\n",
       "        vertical-align: middle;\n",
       "    }\n",
       "\n",
       "    .dataframe tbody tr th {\n",
       "        vertical-align: top;\n",
       "    }\n",
       "\n",
       "    .dataframe thead th {\n",
       "        text-align: right;\n",
       "    }\n",
       "</style>\n",
       "<table border=\"1\" class=\"dataframe\">\n",
       "  <thead>\n",
       "    <tr style=\"text-align: right;\">\n",
       "      <th></th>\n",
       "      <th>Date</th>\n",
       "      <th>Hr_End</th>\n",
       "      <th>Zone_Name</th>\n",
       "      <th>DA_LMP</th>\n",
       "      <th>RT_LMP</th>\n",
       "      <th>RT_EC</th>\n",
       "      <th>Dry_Bulb</th>\n",
       "      <th>Date_New</th>\n",
       "      <th>year</th>\n",
       "      <th>month</th>\n",
       "      <th>day</th>\n",
       "      <th>week</th>\n",
       "    </tr>\n",
       "  </thead>\n",
       "  <tbody>\n",
       "    <tr>\n",
       "      <th>0</th>\n",
       "      <td>1/1/2019</td>\n",
       "      <td>1</td>\n",
       "      <td>ct</td>\n",
       "      <td>25.64</td>\n",
       "      <td>35.43</td>\n",
       "      <td>35.42</td>\n",
       "      <td>38</td>\n",
       "      <td>2019-01-01</td>\n",
       "      <td>2019</td>\n",
       "      <td>1</td>\n",
       "      <td>Tuesday</td>\n",
       "      <td>1</td>\n",
       "    </tr>\n",
       "    <tr>\n",
       "      <th>1</th>\n",
       "      <td>1/1/2019</td>\n",
       "      <td>2</td>\n",
       "      <td>ct</td>\n",
       "      <td>20.56</td>\n",
       "      <td>38.57</td>\n",
       "      <td>38.38</td>\n",
       "      <td>38</td>\n",
       "      <td>2019-01-01</td>\n",
       "      <td>2019</td>\n",
       "      <td>1</td>\n",
       "      <td>Tuesday</td>\n",
       "      <td>1</td>\n",
       "    </tr>\n",
       "  </tbody>\n",
       "</table>\n",
       "</div>"
      ],
      "text/plain": [
       "       Date  Hr_End Zone_Name  DA_LMP  RT_LMP  RT_EC  Dry_Bulb   Date_New  \\\n",
       "0  1/1/2019       1        ct   25.64   35.43  35.42        38 2019-01-01   \n",
       "1  1/1/2019       2        ct   20.56   38.57  38.38        38 2019-01-01   \n",
       "\n",
       "   year  month      day  week  \n",
       "0  2019      1  Tuesday     1  \n",
       "1  2019      1  Tuesday     1  "
      ]
     },
     "execution_count": 17,
     "metadata": {},
     "output_type": "execute_result"
    }
   ],
   "source": [
    "df1.head(2)"
   ]
  },
  {
   "cell_type": "code",
   "execution_count": null,
   "id": "e2199a87-deb7-49f1-abb6-3ede654f2f55",
   "metadata": {},
   "outputs": [],
   "source": [
    "#Data Visualization"
   ]
  },
  {
   "cell_type": "code",
   "execution_count": 53,
   "id": "78b80da1-e36a-44b9-8c88-e2c8394ae348",
   "metadata": {
    "collapsed": true,
    "jupyter": {
     "outputs_hidden": true
    },
    "tags": []
   },
   "outputs": [
    {
     "data": {
      "image/png": "[encoded data removed]",
      "text/plain": [
       "<Figure size 640x480 with 1 Axes>"
      ]
     },
     "metadata": {},
     "output_type": "display_data"
    }
   ],
   "source": [
    "sns.lineplot(x=\"year\",y=\"RT_LMP\",data=df1);"
   ]
  },
  {
   "cell_type": "code",
   "execution_count": 59,
   "id": "3ac793c9-7fec-41cb-8e06-ca84aec38153",
   "metadata": {
    "collapsed": true,
    "jupyter": {
     "outputs_hidden": true
    },
    "tags": []
   },
   "outputs": [
    {
     "data": {
      "image/png": "[encoded data removed]",
      "text/plain": [
       "<Figure size 640x480 with 1 Axes>"
      ]
     },
     "metadata": {},
     "output_type": "display_data"
    }
   ],
   "source": [
    "sns.lineplot(x=\"year\",y=\"RT_EC\",data=df1);"
   ]
  },
  {
   "cell_type": "code",
   "execution_count": 54,
   "id": "3e5d5236-5b54-4a29-9815-a5541c1a4f1b",
   "metadata": {
    "collapsed": true,
    "jupyter": {
     "outputs_hidden": true
    },
    "tags": []
   },
   "outputs": [
    {
     "data": {
      "image/png": "[encoded data removed]",
      "text/plain": [
       "<Figure size 640x480 with 1 Axes>"
      ]
     },
     "metadata": {},
     "output_type": "display_data"
    }
   ],
   "source": [
    "sns.lineplot(x=\"Dry_Bulb\",y=\"RT_LMP\",data=df1);"
   ]
  },
  {
   "cell_type": "code",
   "execution_count": 55,
   "id": "6e4bad2c-b80d-4347-96cd-f3fe6214ecd7",
   "metadata": {
    "collapsed": true,
    "jupyter": {
     "outputs_hidden": true
    },
    "tags": []
   },
   "outputs": [
    {
     "data": {
      "image/png": "[encoded data removed]",
      "text/plain": [
       "<Figure size 640x480 with 1 Axes>"
      ]
     },
     "metadata": {},
     "output_type": "display_data"
    }
   ],
   "source": [
    "sns.lineplot(x=\"month\",y=\"RT_LMP\",data=df1);"
   ]
  },
  {
   "cell_type": "code",
   "execution_count": 56,
   "id": "40750072-a411-4a20-922b-501d6aed6435",
   "metadata": {
    "collapsed": true,
    "jupyter": {
     "outputs_hidden": true
    },
    "tags": []
   },
   "outputs": [
    {
     "data": {
      "image/png": "[encoded data removed]",
      "text/plain": [
       "<Figure size 640x480 with 1 Axes>"
      ]
     },
     "metadata": {},
     "output_type": "display_data"
    }
   ],
   "source": [
    "sns.lineplot(x=\"day\",y=\"RT_LMP\",data=df1);"
   ]
  },
  {
   "cell_type": "code",
   "execution_count": 57,
   "id": "49ff56fe-dded-45af-b7b7-d53fb003aed9",
   "metadata": {
    "collapsed": true,
    "jupyter": {
     "outputs_hidden": true
    },
    "tags": []
   },
   "outputs": [
    {
     "data": {
      "image/png": "[encoded data removed]",
      "text/plain": [
       "<Figure size 640x480 with 1 Axes>"
      ]
     },
     "metadata": {},
     "output_type": "display_data"
    }
   ],
   "source": [
    "sns.lineplot(x=\"Hr_End\",y=\"RT_LMP\",data=df1);"
   ]
  },
  {
   "cell_type": "code",
   "execution_count": 58,
   "id": "0555ba39-45a7-41b1-be51-a76844f97ad2",
   "metadata": {
    "collapsed": true,
    "jupyter": {
     "outputs_hidden": true
    },
    "tags": []
   },
   "outputs": [
    {
     "data": {
      "image/png": "[encoded data removed]",
      "text/plain": [
       "<Figure size 640x480 with 1 Axes>"
      ]
     },
     "metadata": {},
     "output_type": "display_data"
    }
   ],
   "source": [
    "sns.barplot(x=\"Zone_Name\",y=\"RT_LMP\",data=df1);"
   ]
  },
  {
   "cell_type": "code",
   "execution_count": 18,
   "id": "e9bb1966-0bd7-47da-bc4a-9d4273d6db48",
   "metadata": {},
   "outputs": [],
   "source": [
    "df1=df1.drop(columns=[\"Date\",\"Zone_Name\",\"DA_LMP\",\"RT_EC\",\"Date_New\",\"year\"])"
   ]
  },
  {
   "cell_type": "code",
   "execution_count": 20,
   "id": "b4bd023d-b844-4178-9ffb-a8fb099a71f7",
   "metadata": {},
   "outputs": [
    {
     "data": {
      "text/html": [
       "<div>\n",
       "<style scoped>\n",
       "    .dataframe tbody tr th:only-of-type {\n",
       "        vertical-align: middle;\n",
       "    }\n",
       "\n",
       "    .dataframe tbody tr th {\n",
       "        vertical-align: top;\n",
       "    }\n",
       "\n",
       "    .dataframe thead th {\n",
       "        text-align: right;\n",
       "    }\n",
       "</style>\n",
       "<table border=\"1\" class=\"dataframe\">\n",
       "  <thead>\n",
       "    <tr style=\"text-align: right;\">\n",
       "      <th></th>\n",
       "      <th>Hr_End</th>\n",
       "      <th>RT_LMP</th>\n",
       "      <th>Dry_Bulb</th>\n",
       "      <th>month</th>\n",
       "      <th>day</th>\n",
       "      <th>week</th>\n",
       "    </tr>\n",
       "  </thead>\n",
       "  <tbody>\n",
       "    <tr>\n",
       "      <th>0</th>\n",
       "      <td>1</td>\n",
       "      <td>35.43</td>\n",
       "      <td>38</td>\n",
       "      <td>1</td>\n",
       "      <td>Tuesday</td>\n",
       "      <td>1</td>\n",
       "    </tr>\n",
       "    <tr>\n",
       "      <th>1</th>\n",
       "      <td>2</td>\n",
       "      <td>38.57</td>\n",
       "      <td>38</td>\n",
       "      <td>1</td>\n",
       "      <td>Tuesday</td>\n",
       "      <td>1</td>\n",
       "    </tr>\n",
       "  </tbody>\n",
       "</table>\n",
       "</div>"
      ],
      "text/plain": [
       "   Hr_End  RT_LMP  Dry_Bulb  month      day  week\n",
       "0       1   35.43        38      1  Tuesday     1\n",
       "1       2   38.57        38      1  Tuesday     1"
      ]
     },
     "execution_count": 20,
     "metadata": {},
     "output_type": "execute_result"
    }
   ],
   "source": [
    "df1.head(2)"
   ]
  },
  {
   "cell_type": "code",
   "execution_count": 21,
   "id": "d9073e6d-c890-4b40-90d3-cf3999d7528d",
   "metadata": {},
   "outputs": [
    {
     "data": {
      "text/html": [
       "<div>\n",
       "<style scoped>\n",
       "    .dataframe tbody tr th:only-of-type {\n",
       "        vertical-align: middle;\n",
       "    }\n",
       "\n",
       "    .dataframe tbody tr th {\n",
       "        vertical-align: top;\n",
       "    }\n",
       "\n",
       "    .dataframe thead th {\n",
       "        text-align: right;\n",
       "    }\n",
       "</style>\n",
       "<table border=\"1\" class=\"dataframe\">\n",
       "  <thead>\n",
       "    <tr style=\"text-align: right;\">\n",
       "      <th></th>\n",
       "      <th>hr_end</th>\n",
       "      <th>rt_lmp</th>\n",
       "      <th>dry_bulb</th>\n",
       "      <th>month</th>\n",
       "      <th>day</th>\n",
       "      <th>week</th>\n",
       "    </tr>\n",
       "  </thead>\n",
       "  <tbody>\n",
       "    <tr>\n",
       "      <th>0</th>\n",
       "      <td>1</td>\n",
       "      <td>35.43</td>\n",
       "      <td>38</td>\n",
       "      <td>1</td>\n",
       "      <td>Tuesday</td>\n",
       "      <td>1</td>\n",
       "    </tr>\n",
       "    <tr>\n",
       "      <th>1</th>\n",
       "      <td>2</td>\n",
       "      <td>38.57</td>\n",
       "      <td>38</td>\n",
       "      <td>1</td>\n",
       "      <td>Tuesday</td>\n",
       "      <td>1</td>\n",
       "    </tr>\n",
       "  </tbody>\n",
       "</table>\n",
       "</div>"
      ],
      "text/plain": [
       "   hr_end  rt_lmp  dry_bulb  month      day  week\n",
       "0       1   35.43        38      1  Tuesday     1\n",
       "1       2   38.57        38      1  Tuesday     1"
      ]
     },
     "execution_count": 21,
     "metadata": {},
     "output_type": "execute_result"
    }
   ],
   "source": [
    "df1.rename(columns=str.lower, inplace=True)\n",
    "df1.head(2)"
   ]
  },
  {
   "cell_type": "code",
   "execution_count": 88,
   "id": "a2c3161f-0dca-4629-afe1-510aab912e75",
   "metadata": {
    "collapsed": true,
    "jupyter": {
     "outputs_hidden": true
    },
    "tags": []
   },
   "outputs": [
    {
     "data": {
      "text/plain": [
       "<Axes: xlabel='rt_lmp'>"
      ]
     },
     "execution_count": 88,
     "metadata": {},
     "output_type": "execute_result"
    },
    {
     "data": {
      "image/png": "[encoded data removed]",
      "text/plain": [
       "<Figure size 640x480 with 1 Axes>"
      ]
     },
     "metadata": {},
     "output_type": "display_data"
    }
   ],
   "source": [
    "sns.boxplot(x=\"rt_lmp\",data=df1)"
   ]
  },
  {
   "cell_type": "code",
   "execution_count": 21,
   "id": "1fc7ce19-50b2-4909-8d0c-14bdd7e7db26",
   "metadata": {
    "collapsed": true,
    "jupyter": {
     "outputs_hidden": true
    },
    "tags": []
   },
   "outputs": [
    {
     "data": {
      "text/html": [
       "<div>\n",
       "<style scoped>\n",
       "    .dataframe tbody tr th:only-of-type {\n",
       "        vertical-align: middle;\n",
       "    }\n",
       "\n",
       "    .dataframe tbody tr th {\n",
       "        vertical-align: top;\n",
       "    }\n",
       "\n",
       "    .dataframe thead th {\n",
       "        text-align: right;\n",
       "    }\n",
       "</style>\n",
       "<table border=\"1\" class=\"dataframe\">\n",
       "  <thead>\n",
       "    <tr style=\"text-align: right;\">\n",
       "      <th></th>\n",
       "      <th>hr_end</th>\n",
       "      <th>rt_lmp</th>\n",
       "      <th>dry_bulb</th>\n",
       "      <th>month</th>\n",
       "      <th>day</th>\n",
       "      <th>week</th>\n",
       "    </tr>\n",
       "  </thead>\n",
       "  <tbody>\n",
       "    <tr>\n",
       "      <th>7</th>\n",
       "      <td>8</td>\n",
       "      <td>-44.41</td>\n",
       "      <td>44</td>\n",
       "      <td>1</td>\n",
       "      <td>Tuesday</td>\n",
       "      <td>1</td>\n",
       "    </tr>\n",
       "    <tr>\n",
       "      <th>8</th>\n",
       "      <td>9</td>\n",
       "      <td>-19.73</td>\n",
       "      <td>47</td>\n",
       "      <td>1</td>\n",
       "      <td>Tuesday</td>\n",
       "      <td>1</td>\n",
       "    </tr>\n",
       "    <tr>\n",
       "      <th>578</th>\n",
       "      <td>3</td>\n",
       "      <td>-2.65</td>\n",
       "      <td>33</td>\n",
       "      <td>1</td>\n",
       "      <td>Friday</td>\n",
       "      <td>4</td>\n",
       "    </tr>\n",
       "    <tr>\n",
       "      <th>581</th>\n",
       "      <td>6</td>\n",
       "      <td>-1.36</td>\n",
       "      <td>30</td>\n",
       "      <td>1</td>\n",
       "      <td>Friday</td>\n",
       "      <td>4</td>\n",
       "    </tr>\n",
       "    <tr>\n",
       "      <th>612</th>\n",
       "      <td>13</td>\n",
       "      <td>-1.09</td>\n",
       "      <td>30</td>\n",
       "      <td>1</td>\n",
       "      <td>Saturday</td>\n",
       "      <td>4</td>\n",
       "    </tr>\n",
       "    <tr>\n",
       "      <th>...</th>\n",
       "      <td>...</td>\n",
       "      <td>...</td>\n",
       "      <td>...</td>\n",
       "      <td>...</td>\n",
       "      <td>...</td>\n",
       "      <td>...</td>\n",
       "    </tr>\n",
       "    <tr>\n",
       "      <th>349692</th>\n",
       "      <td>13</td>\n",
       "      <td>-26.60</td>\n",
       "      <td>44</td>\n",
       "      <td>11</td>\n",
       "      <td>Friday</td>\n",
       "      <td>47</td>\n",
       "    </tr>\n",
       "    <tr>\n",
       "      <th>350122</th>\n",
       "      <td>11</td>\n",
       "      <td>-23.18</td>\n",
       "      <td>36</td>\n",
       "      <td>12</td>\n",
       "      <td>Tuesday</td>\n",
       "      <td>50</td>\n",
       "    </tr>\n",
       "    <tr>\n",
       "      <th>350135</th>\n",
       "      <td>24</td>\n",
       "      <td>-3.57</td>\n",
       "      <td>34</td>\n",
       "      <td>12</td>\n",
       "      <td>Tuesday</td>\n",
       "      <td>50</td>\n",
       "    </tr>\n",
       "    <tr>\n",
       "      <th>350146</th>\n",
       "      <td>11</td>\n",
       "      <td>-1.90</td>\n",
       "      <td>37</td>\n",
       "      <td>12</td>\n",
       "      <td>Wednesday</td>\n",
       "      <td>50</td>\n",
       "    </tr>\n",
       "    <tr>\n",
       "      <th>350340</th>\n",
       "      <td>13</td>\n",
       "      <td>-4.99</td>\n",
       "      <td>33</td>\n",
       "      <td>12</td>\n",
       "      <td>Thursday</td>\n",
       "      <td>51</td>\n",
       "    </tr>\n",
       "  </tbody>\n",
       "</table>\n",
       "<p>1551 rows × 6 columns</p>\n",
       "</div>"
      ],
      "text/plain": [
       "        hr_end  rt_lmp  dry_bulb  month        day  week\n",
       "7            8  -44.41        44      1    Tuesday     1\n",
       "8            9  -19.73        47      1    Tuesday     1\n",
       "578          3   -2.65        33      1     Friday     4\n",
       "581          6   -1.36        30      1     Friday     4\n",
       "612         13   -1.09        30      1   Saturday     4\n",
       "...        ...     ...       ...    ...        ...   ...\n",
       "349692      13  -26.60        44     11     Friday    47\n",
       "350122      11  -23.18        36     12    Tuesday    50\n",
       "350135      24   -3.57        34     12    Tuesday    50\n",
       "350146      11   -1.90        37     12  Wednesday    50\n",
       "350340      13   -4.99        33     12   Thursday    51\n",
       "\n",
       "[1551 rows x 6 columns]"
      ]
     },
     "execution_count": 21,
     "metadata": {},
     "output_type": "execute_result"
    }
   ],
   "source": [
    "df1[df1['rt_lmp'].between(-200, 0)]"
   ]
  },
  {
   "cell_type": "code",
   "execution_count": 22,
   "id": "27782a24-1dc1-43f6-ad18-84731f91431f",
   "metadata": {
    "collapsed": true,
    "jupyter": {
     "outputs_hidden": true
    },
    "tags": []
   },
   "outputs": [
    {
     "data": {
      "text/html": [
       "<div>\n",
       "<style scoped>\n",
       "    .dataframe tbody tr th:only-of-type {\n",
       "        vertical-align: middle;\n",
       "    }\n",
       "\n",
       "    .dataframe tbody tr th {\n",
       "        vertical-align: top;\n",
       "    }\n",
       "\n",
       "    .dataframe thead th {\n",
       "        text-align: right;\n",
       "    }\n",
       "</style>\n",
       "<table border=\"1\" class=\"dataframe\">\n",
       "  <thead>\n",
       "    <tr style=\"text-align: right;\">\n",
       "      <th></th>\n",
       "      <th>hr_end</th>\n",
       "      <th>rt_lmp</th>\n",
       "      <th>dry_bulb</th>\n",
       "      <th>month</th>\n",
       "      <th>day</th>\n",
       "      <th>week</th>\n",
       "    </tr>\n",
       "  </thead>\n",
       "  <tbody>\n",
       "    <tr>\n",
       "      <th>8479</th>\n",
       "      <td>8</td>\n",
       "      <td>260.80</td>\n",
       "      <td>14</td>\n",
       "      <td>12</td>\n",
       "      <td>Friday</td>\n",
       "      <td>51</td>\n",
       "    </tr>\n",
       "    <tr>\n",
       "      <th>22049</th>\n",
       "      <td>18</td>\n",
       "      <td>282.40</td>\n",
       "      <td>90</td>\n",
       "      <td>7</td>\n",
       "      <td>Wednesday</td>\n",
       "      <td>27</td>\n",
       "    </tr>\n",
       "    <tr>\n",
       "      <th>22889</th>\n",
       "      <td>18</td>\n",
       "      <td>285.28</td>\n",
       "      <td>92</td>\n",
       "      <td>8</td>\n",
       "      <td>Wednesday</td>\n",
       "      <td>32</td>\n",
       "    </tr>\n",
       "    <tr>\n",
       "      <th>23201</th>\n",
       "      <td>18</td>\n",
       "      <td>273.75</td>\n",
       "      <td>88</td>\n",
       "      <td>8</td>\n",
       "      <td>Tuesday</td>\n",
       "      <td>34</td>\n",
       "    </tr>\n",
       "    <tr>\n",
       "      <th>23202</th>\n",
       "      <td>19</td>\n",
       "      <td>291.34</td>\n",
       "      <td>87</td>\n",
       "      <td>8</td>\n",
       "      <td>Tuesday</td>\n",
       "      <td>34</td>\n",
       "    </tr>\n",
       "    <tr>\n",
       "      <th>...</th>\n",
       "      <td>...</td>\n",
       "      <td>...</td>\n",
       "      <td>...</td>\n",
       "      <td>...</td>\n",
       "      <td>...</td>\n",
       "      <td>...</td>\n",
       "    </tr>\n",
       "    <tr>\n",
       "      <th>348930</th>\n",
       "      <td>19</td>\n",
       "      <td>292.53</td>\n",
       "      <td>54</td>\n",
       "      <td>10</td>\n",
       "      <td>Monday</td>\n",
       "      <td>43</td>\n",
       "    </tr>\n",
       "    <tr>\n",
       "      <th>349817</th>\n",
       "      <td>18</td>\n",
       "      <td>278.19</td>\n",
       "      <td>28</td>\n",
       "      <td>11</td>\n",
       "      <td>Wednesday</td>\n",
       "      <td>48</td>\n",
       "    </tr>\n",
       "    <tr>\n",
       "      <th>349830</th>\n",
       "      <td>7</td>\n",
       "      <td>280.98</td>\n",
       "      <td>27</td>\n",
       "      <td>11</td>\n",
       "      <td>Thursday</td>\n",
       "      <td>48</td>\n",
       "    </tr>\n",
       "    <tr>\n",
       "      <th>349831</th>\n",
       "      <td>8</td>\n",
       "      <td>269.53</td>\n",
       "      <td>27</td>\n",
       "      <td>11</td>\n",
       "      <td>Thursday</td>\n",
       "      <td>48</td>\n",
       "    </tr>\n",
       "    <tr>\n",
       "      <th>349913</th>\n",
       "      <td>18</td>\n",
       "      <td>275.96</td>\n",
       "      <td>38</td>\n",
       "      <td>12</td>\n",
       "      <td>Sunday</td>\n",
       "      <td>48</td>\n",
       "    </tr>\n",
       "  </tbody>\n",
       "</table>\n",
       "<p>2232 rows × 6 columns</p>\n",
       "</div>"
      ],
      "text/plain": [
       "        hr_end  rt_lmp  dry_bulb  month        day  week\n",
       "8479         8  260.80        14     12     Friday    51\n",
       "22049       18  282.40        90      7  Wednesday    27\n",
       "22889       18  285.28        92      8  Wednesday    32\n",
       "23201       18  273.75        88      8    Tuesday    34\n",
       "23202       19  291.34        87      8    Tuesday    34\n",
       "...        ...     ...       ...    ...        ...   ...\n",
       "348930      19  292.53        54     10     Monday    43\n",
       "349817      18  278.19        28     11  Wednesday    48\n",
       "349830       7  280.98        27     11   Thursday    48\n",
       "349831       8  269.53        27     11   Thursday    48\n",
       "349913      18  275.96        38     12     Sunday    48\n",
       "\n",
       "[2232 rows x 6 columns]"
      ]
     },
     "execution_count": 22,
     "metadata": {},
     "output_type": "execute_result"
    }
   ],
   "source": [
    "df1[df1['rt_lmp'].between(250, 2300)]"
   ]
  },
  {
   "cell_type": "code",
   "execution_count": 22,
   "id": "6ed9baaf-eee6-4274-8296-e04c7126b9c3",
   "metadata": {
    "tags": []
   },
   "outputs": [
    {
     "data": {
      "text/html": [
       "<div>\n",
       "<style scoped>\n",
       "    .dataframe tbody tr th:only-of-type {\n",
       "        vertical-align: middle;\n",
       "    }\n",
       "\n",
       "    .dataframe tbody tr th {\n",
       "        vertical-align: top;\n",
       "    }\n",
       "\n",
       "    .dataframe thead th {\n",
       "        text-align: right;\n",
       "    }\n",
       "</style>\n",
       "<table border=\"1\" class=\"dataframe\">\n",
       "  <thead>\n",
       "    <tr style=\"text-align: right;\">\n",
       "      <th></th>\n",
       "      <th>hr_end</th>\n",
       "      <th>rt_lmp</th>\n",
       "      <th>dry_bulb</th>\n",
       "      <th>month</th>\n",
       "      <th>day</th>\n",
       "      <th>week</th>\n",
       "    </tr>\n",
       "  </thead>\n",
       "  <tbody>\n",
       "    <tr>\n",
       "      <th>0</th>\n",
       "      <td>1</td>\n",
       "      <td>35.43</td>\n",
       "      <td>38</td>\n",
       "      <td>1</td>\n",
       "      <td>Tuesday</td>\n",
       "      <td>1</td>\n",
       "    </tr>\n",
       "    <tr>\n",
       "      <th>1</th>\n",
       "      <td>2</td>\n",
       "      <td>38.57</td>\n",
       "      <td>38</td>\n",
       "      <td>1</td>\n",
       "      <td>Tuesday</td>\n",
       "      <td>1</td>\n",
       "    </tr>\n",
       "  </tbody>\n",
       "</table>\n",
       "</div>"
      ],
      "text/plain": [
       "   hr_end  rt_lmp  dry_bulb  month      day  week\n",
       "0       1   35.43        38      1  Tuesday     1\n",
       "1       2   38.57        38      1  Tuesday     1"
      ]
     },
     "execution_count": 22,
     "metadata": {},
     "output_type": "execute_result"
    }
   ],
   "source": [
    "df2=df1.copy()\n",
    "df2.head(2)"
   ]
  },
  {
   "cell_type": "code",
   "execution_count": null,
   "id": "bf64795e-f69a-49f8-93a2-6bc4f5e9dc2e",
   "metadata": {},
   "outputs": [],
   "source": [
    "#Outliers "
   ]
  },
  {
   "cell_type": "code",
   "execution_count": 23,
   "id": "b7303feb-ae33-4d31-9b67-33929c8f203c",
   "metadata": {},
   "outputs": [
    {
     "name": "stdout",
     "output_type": "stream",
     "text": [
      "43.70400573886536\n"
     ]
    }
   ],
   "source": [
    "mean= df2['rt_lmp'].mean()\n",
    "print(mean)"
   ]
  },
  {
   "cell_type": "code",
   "execution_count": 24,
   "id": "f79a07fe-6989-40ea-89dd-78d8ff0e3c95",
   "metadata": {},
   "outputs": [],
   "source": [
    "rt_lmp = df2['rt_lmp'].apply(lambda x:mean if x<=0 else x)"
   ]
  },
  {
   "cell_type": "code",
   "execution_count": 25,
   "id": "46bbd91b-e38e-442f-9fa3-f39c1beb98c0",
   "metadata": {
    "tags": []
   },
   "outputs": [],
   "source": [
    "df2['rt_lmp_new'] = rt_lmp"
   ]
  },
  {
   "cell_type": "code",
   "execution_count": 26,
   "id": "ec13e87f-b0ae-40fd-ad8a-75fc3c867a17",
   "metadata": {
    "collapsed": true,
    "jupyter": {
     "outputs_hidden": true
    },
    "tags": []
   },
   "outputs": [
    {
     "data": {
      "text/html": [
       "<div>\n",
       "<style scoped>\n",
       "    .dataframe tbody tr th:only-of-type {\n",
       "        vertical-align: middle;\n",
       "    }\n",
       "\n",
       "    .dataframe tbody tr th {\n",
       "        vertical-align: top;\n",
       "    }\n",
       "\n",
       "    .dataframe thead th {\n",
       "        text-align: right;\n",
       "    }\n",
       "</style>\n",
       "<table border=\"1\" class=\"dataframe\">\n",
       "  <thead>\n",
       "    <tr style=\"text-align: right;\">\n",
       "      <th></th>\n",
       "      <th>hr_end</th>\n",
       "      <th>rt_lmp</th>\n",
       "      <th>dry_bulb</th>\n",
       "      <th>month</th>\n",
       "      <th>day</th>\n",
       "      <th>week</th>\n",
       "      <th>rt_lmp_new</th>\n",
       "    </tr>\n",
       "  </thead>\n",
       "  <tbody>\n",
       "    <tr>\n",
       "      <th>0</th>\n",
       "      <td>1</td>\n",
       "      <td>35.43</td>\n",
       "      <td>38</td>\n",
       "      <td>1</td>\n",
       "      <td>Tuesday</td>\n",
       "      <td>1</td>\n",
       "      <td>35.430000</td>\n",
       "    </tr>\n",
       "    <tr>\n",
       "      <th>1</th>\n",
       "      <td>2</td>\n",
       "      <td>38.57</td>\n",
       "      <td>38</td>\n",
       "      <td>1</td>\n",
       "      <td>Tuesday</td>\n",
       "      <td>1</td>\n",
       "      <td>38.570000</td>\n",
       "    </tr>\n",
       "    <tr>\n",
       "      <th>2</th>\n",
       "      <td>3</td>\n",
       "      <td>21.23</td>\n",
       "      <td>38</td>\n",
       "      <td>1</td>\n",
       "      <td>Tuesday</td>\n",
       "      <td>1</td>\n",
       "      <td>21.230000</td>\n",
       "    </tr>\n",
       "    <tr>\n",
       "      <th>3</th>\n",
       "      <td>4</td>\n",
       "      <td>18.46</td>\n",
       "      <td>37</td>\n",
       "      <td>1</td>\n",
       "      <td>Tuesday</td>\n",
       "      <td>1</td>\n",
       "      <td>18.460000</td>\n",
       "    </tr>\n",
       "    <tr>\n",
       "      <th>4</th>\n",
       "      <td>5</td>\n",
       "      <td>7.53</td>\n",
       "      <td>38</td>\n",
       "      <td>1</td>\n",
       "      <td>Tuesday</td>\n",
       "      <td>1</td>\n",
       "      <td>7.530000</td>\n",
       "    </tr>\n",
       "    <tr>\n",
       "      <th>5</th>\n",
       "      <td>6</td>\n",
       "      <td>17.89</td>\n",
       "      <td>38</td>\n",
       "      <td>1</td>\n",
       "      <td>Tuesday</td>\n",
       "      <td>1</td>\n",
       "      <td>17.890000</td>\n",
       "    </tr>\n",
       "    <tr>\n",
       "      <th>6</th>\n",
       "      <td>7</td>\n",
       "      <td>10.77</td>\n",
       "      <td>39</td>\n",
       "      <td>1</td>\n",
       "      <td>Tuesday</td>\n",
       "      <td>1</td>\n",
       "      <td>10.770000</td>\n",
       "    </tr>\n",
       "    <tr>\n",
       "      <th>7</th>\n",
       "      <td>8</td>\n",
       "      <td>-44.41</td>\n",
       "      <td>44</td>\n",
       "      <td>1</td>\n",
       "      <td>Tuesday</td>\n",
       "      <td>1</td>\n",
       "      <td>43.704006</td>\n",
       "    </tr>\n",
       "    <tr>\n",
       "      <th>8</th>\n",
       "      <td>9</td>\n",
       "      <td>-19.73</td>\n",
       "      <td>47</td>\n",
       "      <td>1</td>\n",
       "      <td>Tuesday</td>\n",
       "      <td>1</td>\n",
       "      <td>43.704006</td>\n",
       "    </tr>\n",
       "    <tr>\n",
       "      <th>9</th>\n",
       "      <td>10</td>\n",
       "      <td>19.38</td>\n",
       "      <td>49</td>\n",
       "      <td>1</td>\n",
       "      <td>Tuesday</td>\n",
       "      <td>1</td>\n",
       "      <td>19.380000</td>\n",
       "    </tr>\n",
       "  </tbody>\n",
       "</table>\n",
       "</div>"
      ],
      "text/plain": [
       "   hr_end  rt_lmp  dry_bulb  month      day  week  rt_lmp_new\n",
       "0       1   35.43        38      1  Tuesday     1   35.430000\n",
       "1       2   38.57        38      1  Tuesday     1   38.570000\n",
       "2       3   21.23        38      1  Tuesday     1   21.230000\n",
       "3       4   18.46        37      1  Tuesday     1   18.460000\n",
       "4       5    7.53        38      1  Tuesday     1    7.530000\n",
       "5       6   17.89        38      1  Tuesday     1   17.890000\n",
       "6       7   10.77        39      1  Tuesday     1   10.770000\n",
       "7       8  -44.41        44      1  Tuesday     1   43.704006\n",
       "8       9  -19.73        47      1  Tuesday     1   43.704006\n",
       "9      10   19.38        49      1  Tuesday     1   19.380000"
      ]
     },
     "execution_count": 26,
     "metadata": {},
     "output_type": "execute_result"
    }
   ],
   "source": [
    "df2.head(10)"
   ]
  },
  {
   "cell_type": "code",
   "execution_count": 27,
   "id": "b6ba016c-6723-45f9-b6ff-68386488a304",
   "metadata": {},
   "outputs": [],
   "source": [
    "rt_lmp1 = df2['rt_lmp_new'].apply(lambda x:mean if x>350 else x)"
   ]
  },
  {
   "cell_type": "code",
   "execution_count": 28,
   "id": "b060e901-f970-4ca9-a87f-efe77dded674",
   "metadata": {},
   "outputs": [],
   "source": [
    "df2['rt_lmp_new'] = rt_lmp1"
   ]
  },
  {
   "cell_type": "code",
   "execution_count": 29,
   "id": "d771f6fe-5aba-448b-8593-2ac4148645d3",
   "metadata": {
    "tags": []
   },
   "outputs": [
    {
     "data": {
      "text/html": [
       "<div>\n",
       "<style scoped>\n",
       "    .dataframe tbody tr th:only-of-type {\n",
       "        vertical-align: middle;\n",
       "    }\n",
       "\n",
       "    .dataframe tbody tr th {\n",
       "        vertical-align: top;\n",
       "    }\n",
       "\n",
       "    .dataframe thead th {\n",
       "        text-align: right;\n",
       "    }\n",
       "</style>\n",
       "<table border=\"1\" class=\"dataframe\">\n",
       "  <thead>\n",
       "    <tr style=\"text-align: right;\">\n",
       "      <th></th>\n",
       "      <th>hr_end</th>\n",
       "      <th>rt_lmp</th>\n",
       "      <th>dry_bulb</th>\n",
       "      <th>month</th>\n",
       "      <th>day</th>\n",
       "      <th>week</th>\n",
       "      <th>rt_lmp_new</th>\n",
       "    </tr>\n",
       "  </thead>\n",
       "  <tbody>\n",
       "    <tr>\n",
       "      <th>0</th>\n",
       "      <td>1</td>\n",
       "      <td>35.43</td>\n",
       "      <td>38</td>\n",
       "      <td>1</td>\n",
       "      <td>Tuesday</td>\n",
       "      <td>1</td>\n",
       "      <td>35.43</td>\n",
       "    </tr>\n",
       "    <tr>\n",
       "      <th>1</th>\n",
       "      <td>2</td>\n",
       "      <td>38.57</td>\n",
       "      <td>38</td>\n",
       "      <td>1</td>\n",
       "      <td>Tuesday</td>\n",
       "      <td>1</td>\n",
       "      <td>38.57</td>\n",
       "    </tr>\n",
       "  </tbody>\n",
       "</table>\n",
       "</div>"
      ],
      "text/plain": [
       "   hr_end  rt_lmp  dry_bulb  month      day  week  rt_lmp_new\n",
       "0       1   35.43        38      1  Tuesday     1       35.43\n",
       "1       2   38.57        38      1  Tuesday     1       38.57"
      ]
     },
     "execution_count": 29,
     "metadata": {},
     "output_type": "execute_result"
    }
   ],
   "source": [
    "df2.head(2)"
   ]
  },
  {
   "cell_type": "code",
   "execution_count": 36,
   "id": "4c1e1e4f-1491-4c6a-9022-6bfb5bc3ca4a",
   "metadata": {
    "collapsed": true,
    "jupyter": {
     "outputs_hidden": true
    },
    "tags": []
   },
   "outputs": [
    {
     "data": {
      "text/plain": [
       "<Axes: xlabel='rt_lmp_new'>"
      ]
     },
     "execution_count": 36,
     "metadata": {},
     "output_type": "execute_result"
    },
    {
     "data": {
      "image/png": "[encoded data removed]",
      "text/plain": [
       "<Figure size 640x480 with 1 Axes>"
      ]
     },
     "metadata": {},
     "output_type": "display_data"
    }
   ],
   "source": [
    "sns.boxplot(x=\"rt_lmp_new\",data=df2)"
   ]
  },
  {
   "cell_type": "code",
   "execution_count": 30,
   "id": "371bcf1e-2375-4b09-8c56-a12795657829",
   "metadata": {
    "tags": []
   },
   "outputs": [],
   "source": [
    "df2=df2.drop(columns=[\"rt_lmp\",\"week\"])"
   ]
  },
  {
   "cell_type": "code",
   "execution_count": 31,
   "id": "723e5f52-4c4f-47cb-a260-c2f9e2be57ba",
   "metadata": {},
   "outputs": [
    {
     "data": {
      "text/html": [
       "<div>\n",
       "<style scoped>\n",
       "    .dataframe tbody tr th:only-of-type {\n",
       "        vertical-align: middle;\n",
       "    }\n",
       "\n",
       "    .dataframe tbody tr th {\n",
       "        vertical-align: top;\n",
       "    }\n",
       "\n",
       "    .dataframe thead th {\n",
       "        text-align: right;\n",
       "    }\n",
       "</style>\n",
       "<table border=\"1\" class=\"dataframe\">\n",
       "  <thead>\n",
       "    <tr style=\"text-align: right;\">\n",
       "      <th></th>\n",
       "      <th>hr_end</th>\n",
       "      <th>dry_bulb</th>\n",
       "      <th>month</th>\n",
       "      <th>day</th>\n",
       "      <th>rt_lmp_new</th>\n",
       "    </tr>\n",
       "  </thead>\n",
       "  <tbody>\n",
       "    <tr>\n",
       "      <th>0</th>\n",
       "      <td>1</td>\n",
       "      <td>38</td>\n",
       "      <td>1</td>\n",
       "      <td>Tuesday</td>\n",
       "      <td>35.43</td>\n",
       "    </tr>\n",
       "    <tr>\n",
       "      <th>1</th>\n",
       "      <td>2</td>\n",
       "      <td>38</td>\n",
       "      <td>1</td>\n",
       "      <td>Tuesday</td>\n",
       "      <td>38.57</td>\n",
       "    </tr>\n",
       "  </tbody>\n",
       "</table>\n",
       "</div>"
      ],
      "text/plain": [
       "   hr_end  dry_bulb  month      day  rt_lmp_new\n",
       "0       1        38      1  Tuesday       35.43\n",
       "1       2        38      1  Tuesday       38.57"
      ]
     },
     "execution_count": 31,
     "metadata": {},
     "output_type": "execute_result"
    }
   ],
   "source": [
    "df2.head(2)"
   ]
  },
  {
   "cell_type": "code",
   "execution_count": null,
   "id": "93d4f721-9feb-4473-a177-a856b49a9fa5",
   "metadata": {},
   "outputs": [],
   "source": [
    "##Variable (one-hot) Transformation"
   ]
  },
  {
   "cell_type": "code",
   "execution_count": 32,
   "id": "e802062f-d9b8-472a-beb1-8c59bea3cbc9",
   "metadata": {},
   "outputs": [
    {
     "data": {
      "text/html": [
       "<div>\n",
       "<style scoped>\n",
       "    .dataframe tbody tr th:only-of-type {\n",
       "        vertical-align: middle;\n",
       "    }\n",
       "\n",
       "    .dataframe tbody tr th {\n",
       "        vertical-align: top;\n",
       "    }\n",
       "\n",
       "    .dataframe thead th {\n",
       "        text-align: right;\n",
       "    }\n",
       "</style>\n",
       "<table border=\"1\" class=\"dataframe\">\n",
       "  <thead>\n",
       "    <tr style=\"text-align: right;\">\n",
       "      <th></th>\n",
       "      <th>dry_bulb</th>\n",
       "      <th>rt_lmp_new</th>\n",
       "      <th>hr_end_2</th>\n",
       "      <th>hr_end_3</th>\n",
       "      <th>hr_end_4</th>\n",
       "      <th>hr_end_5</th>\n",
       "      <th>hr_end_6</th>\n",
       "      <th>hr_end_7</th>\n",
       "      <th>hr_end_8</th>\n",
       "      <th>hr_end_9</th>\n",
       "      <th>...</th>\n",
       "      <th>month_9</th>\n",
       "      <th>month_10</th>\n",
       "      <th>month_11</th>\n",
       "      <th>month_12</th>\n",
       "      <th>day_Monday</th>\n",
       "      <th>day_Saturday</th>\n",
       "      <th>day_Sunday</th>\n",
       "      <th>day_Thursday</th>\n",
       "      <th>day_Tuesday</th>\n",
       "      <th>day_Wednesday</th>\n",
       "    </tr>\n",
       "  </thead>\n",
       "  <tbody>\n",
       "    <tr>\n",
       "      <th>0</th>\n",
       "      <td>38</td>\n",
       "      <td>35.43</td>\n",
       "      <td>0</td>\n",
       "      <td>0</td>\n",
       "      <td>0</td>\n",
       "      <td>0</td>\n",
       "      <td>0</td>\n",
       "      <td>0</td>\n",
       "      <td>0</td>\n",
       "      <td>0</td>\n",
       "      <td>...</td>\n",
       "      <td>0</td>\n",
       "      <td>0</td>\n",
       "      <td>0</td>\n",
       "      <td>0</td>\n",
       "      <td>0</td>\n",
       "      <td>0</td>\n",
       "      <td>0</td>\n",
       "      <td>0</td>\n",
       "      <td>1</td>\n",
       "      <td>0</td>\n",
       "    </tr>\n",
       "    <tr>\n",
       "      <th>1</th>\n",
       "      <td>38</td>\n",
       "      <td>38.57</td>\n",
       "      <td>1</td>\n",
       "      <td>0</td>\n",
       "      <td>0</td>\n",
       "      <td>0</td>\n",
       "      <td>0</td>\n",
       "      <td>0</td>\n",
       "      <td>0</td>\n",
       "      <td>0</td>\n",
       "      <td>...</td>\n",
       "      <td>0</td>\n",
       "      <td>0</td>\n",
       "      <td>0</td>\n",
       "      <td>0</td>\n",
       "      <td>0</td>\n",
       "      <td>0</td>\n",
       "      <td>0</td>\n",
       "      <td>0</td>\n",
       "      <td>1</td>\n",
       "      <td>0</td>\n",
       "    </tr>\n",
       "  </tbody>\n",
       "</table>\n",
       "<p>2 rows × 42 columns</p>\n",
       "</div>"
      ],
      "text/plain": [
       "   dry_bulb  rt_lmp_new  hr_end_2  hr_end_3  hr_end_4  hr_end_5  hr_end_6  \\\n",
       "0        38       35.43         0         0         0         0         0   \n",
       "1        38       38.57         1         0         0         0         0   \n",
       "\n",
       "   hr_end_7  hr_end_8  hr_end_9  ...  month_9  month_10  month_11  month_12  \\\n",
       "0         0         0         0  ...        0         0         0         0   \n",
       "1         0         0         0  ...        0         0         0         0   \n",
       "\n",
       "   day_Monday  day_Saturday  day_Sunday  day_Thursday  day_Tuesday  \\\n",
       "0           0             0           0             0            1   \n",
       "1           0             0           0             0            1   \n",
       "\n",
       "   day_Wednesday  \n",
       "0              0  \n",
       "1              0  \n",
       "\n",
       "[2 rows x 42 columns]"
      ]
     },
     "execution_count": 32,
     "metadata": {},
     "output_type": "execute_result"
    }
   ],
   "source": [
    "dms=pd.get_dummies(df2,columns=[\"hr_end\",\"month\",\"day\"],prefix=[\"hr_end\",\"month\",\"day\"],drop_first\n",
    "=True)\n",
    "dms.head(2)"
   ]
  },
  {
   "cell_type": "code",
   "execution_count": 33,
   "id": "e1de5ef4-8f33-4778-9eb3-6112534daf9a",
   "metadata": {},
   "outputs": [],
   "source": [
    "y=df2[\"rt_lmp_new\"]"
   ]
  },
  {
   "cell_type": "code",
   "execution_count": 34,
   "id": "b17c6bb1-e516-4ce9-87f2-7ea3c55ad1a1",
   "metadata": {},
   "outputs": [
    {
     "data": {
      "text/plain": [
       "0    35.43\n",
       "1    38.57\n",
       "Name: rt_lmp_new, dtype: float64"
      ]
     },
     "execution_count": 34,
     "metadata": {},
     "output_type": "execute_result"
    }
   ],
   "source": [
    "y.head(2)"
   ]
  },
  {
   "cell_type": "code",
   "execution_count": 35,
   "id": "33a22174-3498-48f4-8db2-793745c64a6e",
   "metadata": {},
   "outputs": [],
   "source": [
    "X=dms"
   ]
  },
  {
   "cell_type": "code",
   "execution_count": 36,
   "id": "b9064451-7cdc-4372-a727-3fde9c64382b",
   "metadata": {},
   "outputs": [
    {
     "data": {
      "text/html": [
       "<div>\n",
       "<style scoped>\n",
       "    .dataframe tbody tr th:only-of-type {\n",
       "        vertical-align: middle;\n",
       "    }\n",
       "\n",
       "    .dataframe tbody tr th {\n",
       "        vertical-align: top;\n",
       "    }\n",
       "\n",
       "    .dataframe thead th {\n",
       "        text-align: right;\n",
       "    }\n",
       "</style>\n",
       "<table border=\"1\" class=\"dataframe\">\n",
       "  <thead>\n",
       "    <tr style=\"text-align: right;\">\n",
       "      <th></th>\n",
       "      <th>dry_bulb</th>\n",
       "      <th>rt_lmp_new</th>\n",
       "      <th>hr_end_2</th>\n",
       "      <th>hr_end_3</th>\n",
       "      <th>hr_end_4</th>\n",
       "      <th>hr_end_5</th>\n",
       "      <th>hr_end_6</th>\n",
       "      <th>hr_end_7</th>\n",
       "      <th>hr_end_8</th>\n",
       "      <th>hr_end_9</th>\n",
       "      <th>...</th>\n",
       "      <th>month_9</th>\n",
       "      <th>month_10</th>\n",
       "      <th>month_11</th>\n",
       "      <th>month_12</th>\n",
       "      <th>day_Monday</th>\n",
       "      <th>day_Saturday</th>\n",
       "      <th>day_Sunday</th>\n",
       "      <th>day_Thursday</th>\n",
       "      <th>day_Tuesday</th>\n",
       "      <th>day_Wednesday</th>\n",
       "    </tr>\n",
       "  </thead>\n",
       "  <tbody>\n",
       "    <tr>\n",
       "      <th>0</th>\n",
       "      <td>38</td>\n",
       "      <td>35.43</td>\n",
       "      <td>0</td>\n",
       "      <td>0</td>\n",
       "      <td>0</td>\n",
       "      <td>0</td>\n",
       "      <td>0</td>\n",
       "      <td>0</td>\n",
       "      <td>0</td>\n",
       "      <td>0</td>\n",
       "      <td>...</td>\n",
       "      <td>0</td>\n",
       "      <td>0</td>\n",
       "      <td>0</td>\n",
       "      <td>0</td>\n",
       "      <td>0</td>\n",
       "      <td>0</td>\n",
       "      <td>0</td>\n",
       "      <td>0</td>\n",
       "      <td>1</td>\n",
       "      <td>0</td>\n",
       "    </tr>\n",
       "    <tr>\n",
       "      <th>1</th>\n",
       "      <td>38</td>\n",
       "      <td>38.57</td>\n",
       "      <td>1</td>\n",
       "      <td>0</td>\n",
       "      <td>0</td>\n",
       "      <td>0</td>\n",
       "      <td>0</td>\n",
       "      <td>0</td>\n",
       "      <td>0</td>\n",
       "      <td>0</td>\n",
       "      <td>...</td>\n",
       "      <td>0</td>\n",
       "      <td>0</td>\n",
       "      <td>0</td>\n",
       "      <td>0</td>\n",
       "      <td>0</td>\n",
       "      <td>0</td>\n",
       "      <td>0</td>\n",
       "      <td>0</td>\n",
       "      <td>1</td>\n",
       "      <td>0</td>\n",
       "    </tr>\n",
       "  </tbody>\n",
       "</table>\n",
       "<p>2 rows × 42 columns</p>\n",
       "</div>"
      ],
      "text/plain": [
       "   dry_bulb  rt_lmp_new  hr_end_2  hr_end_3  hr_end_4  hr_end_5  hr_end_6  \\\n",
       "0        38       35.43         0         0         0         0         0   \n",
       "1        38       38.57         1         0         0         0         0   \n",
       "\n",
       "   hr_end_7  hr_end_8  hr_end_9  ...  month_9  month_10  month_11  month_12  \\\n",
       "0         0         0         0  ...        0         0         0         0   \n",
       "1         0         0         0  ...        0         0         0         0   \n",
       "\n",
       "   day_Monday  day_Saturday  day_Sunday  day_Thursday  day_Tuesday  \\\n",
       "0           0             0           0             0            1   \n",
       "1           0             0           0             0            1   \n",
       "\n",
       "   day_Wednesday  \n",
       "0              0  \n",
       "1              0  \n",
       "\n",
       "[2 rows x 42 columns]"
      ]
     },
     "execution_count": 36,
     "metadata": {},
     "output_type": "execute_result"
    }
   ],
   "source": [
    "X.head(2)"
   ]
  },
  {
   "cell_type": "code",
   "execution_count": null,
   "id": "c452b73b-cc05-4acd-a4d5-a45cc401b0c1",
   "metadata": {},
   "outputs": [],
   "source": [
    "#Split test, train sets"
   ]
  },
  {
   "cell_type": "code",
   "execution_count": 106,
   "id": "3753a3ce-c20c-4300-b85a-4008337212fd",
   "metadata": {},
   "outputs": [],
   "source": [
    "from sklearn.model_selection import train_test_split, cross_val_score, cross_val_predict, GridSearchCV"
   ]
  },
  {
   "cell_type": "code",
   "execution_count": 129,
   "id": "7f0245b8-8081-4d64-af1b-5867f2d8318d",
   "metadata": {},
   "outputs": [],
   "source": [
    "from sklearn.metrics import mean_squared_error,r2_score"
   ]
  },
  {
   "cell_type": "code",
   "execution_count": 39,
   "id": "66191b4c-ba82-49c2-ac36-bc1cdec3ad4c",
   "metadata": {},
   "outputs": [],
   "source": [
    "X_train,X_test,y_train,y_test=train_test_split(X,y,test_size=0.20,random_state=42)"
   ]
  },
  {
   "cell_type": "code",
   "execution_count": 117,
   "id": "5e90bcf0-45a3-4d3c-9113-1f442678d7ee",
   "metadata": {},
   "outputs": [
    {
     "name": "stdout",
     "output_type": "stream",
     "text": [
      "X_train (280473, 42)\n",
      "X_test (70119, 42)\n",
      "y_train (280473,)\n",
      "y_test (70119,)\n",
      "training (350592, 5)\n"
     ]
    }
   ],
   "source": [
    "print(\"X_train\",X_train.shape)\n",
    "print(\"X_test\",X_test.shape)\n",
    "print(\"y_train\",y_train.shape)\n",
    "print(\"y_test\",y_test.shape)\n",
    "training=df2.copy()\n",
    "print(\"training\",df2.shape)"
   ]
  },
  {
   "cell_type": "code",
   "execution_count": null,
   "id": "941d5ac1-9e04-479c-8509-c1672594e14f",
   "metadata": {},
   "outputs": [],
   "source": [
    "##Light GBM "
   ]
  },
  {
   "cell_type": "code",
   "execution_count": null,
   "id": "27dfc809-2192-405e-89fe-f568af0fb7c6",
   "metadata": {},
   "outputs": [],
   "source": [
    "#Model "
   ]
  },
  {
   "cell_type": "code",
   "execution_count": 119,
   "id": "29382123-fa80-49bc-a269-e581433df0b9",
   "metadata": {
    "collapsed": true,
    "jupyter": {
     "outputs_hidden": true
    },
    "tags": []
   },
   "outputs": [
    {
     "name": "stdout",
     "output_type": "stream",
     "text": [
      "Collecting lightgbm\n",
      "  Obtaining dependency information for lightgbm from https://files.pythonhosted.org/packages/e1/4c/4685ccfae9806f561de716e32549190c1f533dde5bcadaf83bdf23972cf0/lightgbm-4.3.0-py3-none-win_amd64.whl.metadata\n",
      "  Downloading lightgbm-4.3.0-py3-none-win_amd64.whl.metadata (19 kB)\n",
      "Requirement already satisfied: numpy in c:\\users\\cigdem\\anaconda3\\lib\\site-packages (from lightgbm) (1.24.3)\n",
      "Requirement already satisfied: scipy in c:\\users\\cigdem\\anaconda3\\lib\\site-packages (from lightgbm) (1.11.1)\n",
      "Downloading lightgbm-4.3.0-py3-none-win_amd64.whl (1.3 MB)\n",
      "   ---------------------------------------- 0.0/1.3 MB ? eta -:--:--\n",
      "   ---------------------------------------- 0.0/1.3 MB ? eta -:--:--\n",
      "   ---------------------------------------- 0.0/1.3 MB ? eta -:--:--\n",
      "   ---------------------------------------- 0.0/1.3 MB ? eta -:--:--\n",
      "    --------------------------------------- 0.0/1.3 MB 262.6 kB/s eta 0:00:05\n",
      "   - -------------------------------------- 0.1/1.3 MB 297.7 kB/s eta 0:00:05\n",
      "   -- ------------------------------------- 0.1/1.3 MB 403.5 kB/s eta 0:00:04\n",
      "   ---- ----------------------------------- 0.1/1.3 MB 532.5 kB/s eta 0:00:03\n",
      "   ------ --------------------------------- 0.2/1.3 MB 621.6 kB/s eta 0:00:02\n",
      "   ------- -------------------------------- 0.2/1.3 MB 656.0 kB/s eta 0:00:02\n",
      "   ----------- ---------------------------- 0.4/1.3 MB 958.4 kB/s eta 0:00:01\n",
      "   -------------- ------------------------- 0.5/1.3 MB 1.0 MB/s eta 0:00:01\n",
      "   -------------------- ------------------- 0.7/1.3 MB 1.3 MB/s eta 0:00:01\n",
      "   -------------------- ------------------- 0.7/1.3 MB 1.3 MB/s eta 0:00:01\n",
      "   -------------------------- ------------- 0.9/1.3 MB 1.5 MB/s eta 0:00:01\n",
      "   ----------------------------------- ---- 1.2/1.3 MB 1.8 MB/s eta 0:00:01\n",
      "   ---------------------------------------- 1.3/1.3 MB 1.9 MB/s eta 0:00:00\n",
      "Installing collected packages: lightgbm\n",
      "Successfully installed lightgbm-4.3.0\n"
     ]
    },
    {
     "name": "stderr",
     "output_type": "stream",
     "text": [
      "WARNING: Error parsing requirements for cython: [Errno 2] No such file or directory: 'c:\\\\users\\\\cigdem\\\\anaconda3\\\\lib\\\\site-packages\\\\Cython-3.0.0.dist-info\\\\METADATA'\n",
      "WARNING: Error parsing requirements for xlsxwriter: [Errno 2] No such file or directory: 'c:\\\\users\\\\cigdem\\\\anaconda3\\\\lib\\\\site-packages\\\\XlsxWriter-3.1.1.dist-info\\\\METADATA'\n",
      "WARNING: Error parsing requirements for bitarray: [Errno 2] No such file or directory: 'c:\\\\users\\\\cigdem\\\\anaconda3\\\\lib\\\\site-packages\\\\bitarray-2.5.1.dist-info\\\\METADATA'\n",
      "WARNING: Error parsing requirements for boto3: [Errno 2] No such file or directory: 'c:\\\\users\\\\cigdem\\\\anaconda3\\\\lib\\\\site-packages\\\\boto3-1.26.76.dist-info\\\\METADATA'\n",
      "WARNING: Error parsing requirements for comtypes: [Errno 2] No such file or directory: 'c:\\\\users\\\\cigdem\\\\anaconda3\\\\lib\\\\site-packages\\\\comtypes-1.1.14.dist-info\\\\METADATA'\n",
      "WARNING: Error parsing requirements for jdcal: [Errno 2] No such file or directory: 'c:\\\\users\\\\cigdem\\\\anaconda3\\\\lib\\\\site-packages\\\\jdcal-1.4.1.dist-info\\\\METADATA'\n",
      "WARNING: Error parsing requirements for nose: [Errno 2] No such file or directory: 'c:\\\\users\\\\cigdem\\\\anaconda3\\\\lib\\\\site-packages\\\\nose-1.3.7.dist-info\\\\METADATA'\n",
      "WARNING: Error parsing requirements for olefile: [Errno 2] No such file or directory: 'c:\\\\users\\\\cigdem\\\\anaconda3\\\\lib\\\\site-packages\\\\olefile-0.46.dist-info\\\\METADATA'\n",
      "WARNING: Error parsing requirements for py: [Errno 2] No such file or directory: 'c:\\\\users\\\\cigdem\\\\anaconda3\\\\lib\\\\site-packages\\\\py-1.11.0.dist-info\\\\METADATA'\n",
      "WARNING: Error parsing requirements for s3transfer: [Errno 2] No such file or directory: 'c:\\\\users\\\\cigdem\\\\anaconda3\\\\lib\\\\site-packages\\\\s3transfer-0.6.0.dist-info\\\\METADATA'\n",
      "WARNING: Error parsing requirements for sortedcollections: [Errno 2] No such file or directory: 'c:\\\\users\\\\cigdem\\\\anaconda3\\\\lib\\\\site-packages\\\\sortedcollections-2.1.0.dist-info\\\\METADATA'\n",
      "WARNING: Error parsing requirements for xlrd: [Errno 2] No such file or directory: 'c:\\\\users\\\\cigdem\\\\anaconda3\\\\lib\\\\site-packages\\\\xlrd-2.0.1.dist-info\\\\METADATA'\n"
     ]
    }
   ],
   "source": [
    "!pip install lightgbm"
   ]
  },
  {
   "cell_type": "code",
   "execution_count": 120,
   "id": "2714fb88-0590-4a5c-94df-9e186824f68c",
   "metadata": {},
   "outputs": [],
   "source": [
    "from lightgbm import LGBMRegressor"
   ]
  },
  {
   "cell_type": "code",
   "execution_count": 121,
   "id": "e0767b18-323f-4f94-894d-a3c43d30760e",
   "metadata": {
    "collapsed": true,
    "jupyter": {
     "outputs_hidden": true
    },
    "tags": []
   },
   "outputs": [
    {
     "name": "stdout",
     "output_type": "stream",
     "text": [
      "Collecting package metadata (current_repodata.json): ...working... done\n",
      "Solving environment: ...working... done\n",
      "\n",
      "## Package Plan ##\n",
      "\n",
      "  environment location: C:\\Users\\cigdem\\anaconda3\n",
      "\n",
      "  added / updated specs:\n",
      "    - lightgbm\n",
      "\n",
      "\n",
      "The following packages will be downloaded:\n",
      "\n",
      "    package                    |            build\n",
      "    ---------------------------|-----------------\n",
      "    ca-certificates-2024.2.2   |       h56e8100_0         152 KB  conda-forge\n",
      "    certifi-2024.2.2           |     pyhd8ed1ab_0         157 KB  conda-forge\n",
      "    lightgbm-4.1.0             |   py39h5da7b33_0         1.1 MB\n",
      "    openssl-3.0.13             |       h2bbff1b_0         7.4 MB\n",
      "    ------------------------------------------------------------\n",
      "                                           Total:         8.8 MB\n",
      "\n",
      "The following NEW packages will be INSTALLED:\n",
      "\n",
      "  lightgbm           pkgs/main/win-64::lightgbm-4.1.0-py39h5da7b33_0 None\n",
      "\n",
      "The following packages will be UPDATED:\n",
      "\n",
      "  ca-certificates    pkgs/main::ca-certificates-2023.08.22~ --> conda-forge::ca-certificates-2024.2.2-h56e8100_0 None\n",
      "  certifi            pkgs/main/win-64::certifi-2023.7.22-p~ --> conda-forge/noarch::certifi-2024.2.2-pyhd8ed1ab_0 None\n",
      "  openssl                                 3.0.11-h2bbff1b_2 --> 3.0.13-h2bbff1b_0 None\n",
      "\n",
      "\n",
      "\n",
      "Downloading and Extracting Packages\n",
      "\n",
      "certifi-2024.2.2     | 157 KB    |            |   0% \n",
      "certifi-2024.2.2     | 157 KB    | #          |  10% \n",
      "certifi-2024.2.2     | 157 KB    | ########## | 100% \n",
      "certifi-2024.2.2     | 157 KB    | ########## | 100% \n",
      "\n",
      "lightgbm-4.1.0       | 1.1 MB    |            |   0% \n",
      "lightgbm-4.1.0       | 1.1 MB    | 1          |   1% \n",
      "lightgbm-4.1.0       | 1.1 MB    | ##5        |  25% \n",
      "lightgbm-4.1.0       | 1.1 MB    | #####9     |  59% \n",
      "lightgbm-4.1.0       | 1.1 MB    | ########## | 100% \n",
      "lightgbm-4.1.0       | 1.1 MB    | ########## | 100% \n",
      "\n",
      "ca-certificates-2024 | 152 KB    |            |   0% \n",
      "ca-certificates-2024 | 152 KB    | ####2      |  42% \n",
      "ca-certificates-2024 | 152 KB    | ########## | 100% \n",
      "ca-certificates-2024 | 152 KB    | ########## | 100% \n",
      "\n",
      "openssl-3.0.13       | 7.4 MB    |            |   0% \n",
      "openssl-3.0.13       | 7.4 MB    |            |   1% \n",
      "openssl-3.0.13       | 7.4 MB    | 4          |   5% \n",
      "openssl-3.0.13       | 7.4 MB    | ##1        |  21% \n",
      "openssl-3.0.13       | 7.4 MB    | ##9        |  29% \n",
      "openssl-3.0.13       | 7.4 MB    | ###6       |  37% \n",
      "openssl-3.0.13       | 7.4 MB    | ####3      |  44% \n",
      "openssl-3.0.13       | 7.4 MB    | #####      |  51% \n",
      "openssl-3.0.13       | 7.4 MB    | #####9     |  60% \n",
      "openssl-3.0.13       | 7.4 MB    | ######6    |  67% \n",
      "openssl-3.0.13       | 7.4 MB    | #######4   |  75% \n",
      "openssl-3.0.13       | 7.4 MB    | ########2  |  83% \n",
      "openssl-3.0.13       | 7.4 MB    | #########  |  90% \n",
      "openssl-3.0.13       | 7.4 MB    | #########7 |  97% \n",
      "openssl-3.0.13       | 7.4 MB    | ########## | 100% \n",
      "Preparing transaction: ...working... done\n",
      "Verifying transaction: ...working... done\n",
      "Executing transaction: ...working... done\n",
      "Retrieving notices: ...working... done\n",
      "\n",
      "Note: you may need to restart the kernel to use updated packages.\n"
     ]
    },
    {
     "name": "stderr",
     "output_type": "stream",
     "text": [
      "\n",
      "\n",
      "==> WARNING: A newer version of conda exists. <==\n",
      "  current version: 22.9.0\n",
      "  latest version: 24.3.0\n",
      "\n",
      "Please update conda by running\n",
      "\n",
      "    $ conda update -n base -c defaults conda\n",
      "\n",
      "\n"
     ]
    }
   ],
   "source": [
    "conda install -c conda-forge lightgbm"
   ]
  },
  {
   "cell_type": "code",
   "execution_count": 122,
   "id": "c735c0ac-2e6d-4780-a2e7-9746d962ac60",
   "metadata": {},
   "outputs": [],
   "source": [
    "from lightgbm import LGBMRegressor"
   ]
  },
  {
   "cell_type": "code",
   "execution_count": 123,
   "id": "ffc9ad5b-9551-444c-a9e5-6b920073497c",
   "metadata": {},
   "outputs": [],
   "source": [
    "lgbm=LGBMRegressor()"
   ]
  },
  {
   "cell_type": "code",
   "execution_count": 124,
   "id": "e691bdae-70eb-4a5b-ac55-dc1a6fe26a09",
   "metadata": {
    "collapsed": true,
    "jupyter": {
     "outputs_hidden": true
    },
    "tags": []
   },
   "outputs": [
    {
     "name": "stdout",
     "output_type": "stream",
     "text": [
      "[LightGBM] [Info] Auto-choosing col-wise multi-threading, the overhead of testing was 0.022310 seconds.\n",
      "You can set `force_col_wise=true` to remove the overhead.\n",
      "[LightGBM] [Info] Total Bins 436\n",
      "[LightGBM] [Info] Number of data points in the train set: 280473, number of used features: 42\n",
      "[LightGBM] [Info] Start training from score 43.407112\n"
     ]
    }
   ],
   "source": [
    "lgbm_model=lgbm.fit(X_train,y_train)"
   ]
  },
  {
   "cell_type": "code",
   "execution_count": null,
   "id": "3d47f9d7-ef70-4418-a551-13cb338f271c",
   "metadata": {},
   "outputs": [],
   "source": [
    "#Prediction"
   ]
  },
  {
   "cell_type": "code",
   "execution_count": 127,
   "id": "8d447895-d5ee-4241-87f3-261a56338de5",
   "metadata": {},
   "outputs": [],
   "source": [
    "y_pred=lgbm_model.predict(X_test)"
   ]
  },
  {
   "cell_type": "code",
   "execution_count": 131,
   "id": "b0ef12b2-e20b-4ee8-ab0e-697b71b1ab97",
   "metadata": {},
   "outputs": [
    {
     "data": {
      "text/plain": [
       "1.409894487441342"
      ]
     },
     "execution_count": 131,
     "metadata": {},
     "output_type": "execute_result"
    }
   ],
   "source": [
    "np.sqrt(mean_squared_error(y_test,y_pred))"
   ]
  },
  {
   "cell_type": "code",
   "execution_count": null,
   "id": "9f698278-7a0c-45a8-9b11-bf69107e4973",
   "metadata": {},
   "outputs": [],
   "source": [
    "#mean_squared_error=1.409894487441342 bulundu"
   ]
  },
  {
   "cell_type": "code",
   "execution_count": null,
   "id": "67b4cc42-ea11-4428-bcdf-3ac8b2af2d6c",
   "metadata": {},
   "outputs": [],
   "source": [
    "#Model Tuning"
   ]
  },
  {
   "cell_type": "code",
   "execution_count": 132,
   "id": "8c46485d-c7f5-48c3-b17d-ba4f28ece0e5",
   "metadata": {},
   "outputs": [
    {
     "data": {
      "text/html": [
       "<style>#sk-container-id-3 {color: black;}#sk-container-id-3 pre{padding: 0;}#sk-container-id-3 div.sk-toggleable {background-color: white;}#sk-container-id-3 label.sk-toggleable__label {cursor: pointer;display: block;width: 100%;margin-bottom: 0;padding: 0.3em;box-sizing: border-box;text-align: center;}#sk-container-id-3 label.sk-toggleable__label-arrow:before {content: \"▸\";float: left;margin-right: 0.25em;color: #696969;}#sk-container-id-3 label.sk-toggleable__label-arrow:hover:before {color: black;}#sk-container-id-3 div.sk-estimator:hover label.sk-toggleable__label-arrow:before {color: black;}#sk-container-id-3 div.sk-toggleable__content {max-height: 0;max-width: 0;overflow: hidden;text-align: left;background-color: #f0f8ff;}#sk-container-id-3 div.sk-toggleable__content pre {margin: 0.2em;color: black;border-radius: 0.25em;background-color: #f0f8ff;}#sk-container-id-3 input.sk-toggleable__control:checked~div.sk-toggleable__content {max-height: 200px;max-width: 100%;overflow: auto;}#sk-container-id-3 input.sk-toggleable__control:checked~label.sk-toggleable__label-arrow:before {content: \"▾\";}#sk-container-id-3 div.sk-estimator input.sk-toggleable__control:checked~label.sk-toggleable__label {background-color: #d4ebff;}#sk-container-id-3 div.sk-label input.sk-toggleable__control:checked~label.sk-toggleable__label {background-color: #d4ebff;}#sk-container-id-3 input.sk-hidden--visually {border: 0;clip: rect(1px 1px 1px 1px);clip: rect(1px, 1px, 1px, 1px);height: 1px;margin: -1px;overflow: hidden;padding: 0;position: absolute;width: 1px;}#sk-container-id-3 div.sk-estimator {font-family: monospace;background-color: #f0f8ff;border: 1px dotted black;border-radius: 0.25em;box-sizing: border-box;margin-bottom: 0.5em;}#sk-container-id-3 div.sk-estimator:hover {background-color: #d4ebff;}#sk-container-id-3 div.sk-parallel-item::after {content: \"\";width: 100%;border-bottom: 1px solid gray;flex-grow: 1;}#sk-container-id-3 div.sk-label:hover label.sk-toggleable__label {background-color: #d4ebff;}#sk-container-id-3 div.sk-serial::before {content: \"\";position: absolute;border-left: 1px solid gray;box-sizing: border-box;top: 0;bottom: 0;left: 50%;z-index: 0;}#sk-container-id-3 div.sk-serial {display: flex;flex-direction: column;align-items: center;background-color: white;padding-right: 0.2em;padding-left: 0.2em;position: relative;}#sk-container-id-3 div.sk-item {position: relative;z-index: 1;}#sk-container-id-3 div.sk-parallel {display: flex;align-items: stretch;justify-content: center;background-color: white;position: relative;}#sk-container-id-3 div.sk-item::before, #sk-container-id-3 div.sk-parallel-item::before {content: \"\";position: absolute;border-left: 1px solid gray;box-sizing: border-box;top: 0;bottom: 0;left: 50%;z-index: -1;}#sk-container-id-3 div.sk-parallel-item {display: flex;flex-direction: column;z-index: 1;position: relative;background-color: white;}#sk-container-id-3 div.sk-parallel-item:first-child::after {align-self: flex-end;width: 50%;}#sk-container-id-3 div.sk-parallel-item:last-child::after {align-self: flex-start;width: 50%;}#sk-container-id-3 div.sk-parallel-item:only-child::after {width: 0;}#sk-container-id-3 div.sk-dashed-wrapped {border: 1px dashed gray;margin: 0 0.4em 0.5em 0.4em;box-sizing: border-box;padding-bottom: 0.4em;background-color: white;}#sk-container-id-3 div.sk-label label {font-family: monospace;font-weight: bold;display: inline-block;line-height: 1.2em;}#sk-container-id-3 div.sk-label-container {text-align: center;}#sk-container-id-3 div.sk-container {/* jupyter's `normalize.less` sets `[hidden] { display: none; }` but bootstrap.min.css set `[hidden] { display: none !important; }` so we also need the `!important` here to be able to override the default hidden behavior on the sphinx rendered scikit-learn.org. See: https://github.com/scikit-learn/scikit-learn/issues/21755 */display: inline-block !important;position: relative;}#sk-container-id-3 div.sk-text-repr-fallback {display: none;}</style><div id=\"sk-container-id-3\" class=\"sk-top-container\"><div class=\"sk-text-repr-fallback\"><pre>LGBMRegressor()</pre><b>In a Jupyter environment, please rerun this cell to show the HTML representation or trust the notebook. <br />On GitHub, the HTML representation is unable to render, please try loading this page with nbviewer.org.</b></div><div class=\"sk-container\" hidden><div class=\"sk-item\"><div class=\"sk-estimator sk-toggleable\"><input class=\"sk-toggleable__control sk-hidden--visually\" id=\"sk-estimator-id-3\" type=\"checkbox\" checked><label for=\"sk-estimator-id-3\" class=\"sk-toggleable__label sk-toggleable__label-arrow\">LGBMRegressor</label><div class=\"sk-toggleable__content\"><pre>LGBMRegressor()</pre></div></div></div></div></div>"
      ],
      "text/plain": [
       "LGBMRegressor()"
      ]
     },
     "execution_count": 132,
     "metadata": {},
     "output_type": "execute_result"
    }
   ],
   "source": [
    "lgbm_model"
   ]
  },
  {
   "cell_type": "code",
   "execution_count": 133,
   "id": "8cf2b240-f51a-4b82-ab21-57e7395533c6",
   "metadata": {},
   "outputs": [],
   "source": [
    "lgbm_grid={\n",
    "    'colsample_bytree':[0.4,0.5,0.6,0.9,1],\n",
    "    'learning_rate':[0.01,0.1,0.5,1],\n",
    "    'n_estimators':[100,200,500],\n",
    "    'max_depth':[2,3,4,5,6]\n",
    "}"
   ]
  },
  {
   "cell_type": "code",
   "execution_count": 134,
   "id": "6d806171-cb18-494d-b579-2dc0ac2899ab",
   "metadata": {},
   "outputs": [],
   "source": [
    "lgbm=LGBMRegressor()"
   ]
  },
  {
   "cell_type": "code",
   "execution_count": 135,
   "id": "237234eb-08eb-47d9-9dc1-3dea401b158b",
   "metadata": {},
   "outputs": [],
   "source": [
    "lgbm_cv_model=GridSearchCV(lgbm,lgbm_grid,cv=5,n_jobs=-1,verbose=2)"
   ]
  },
  {
   "cell_type": "code",
   "execution_count": 136,
   "id": "3775ddae-f402-45af-b583-e4687ceff322",
   "metadata": {
    "collapsed": true,
    "jupyter": {
     "outputs_hidden": true
    },
    "tags": []
   },
   "outputs": [
    {
     "name": "stdout",
     "output_type": "stream",
     "text": [
      "Fitting 5 folds for each of 300 candidates, totalling 1500 fits\n",
      "[LightGBM] [Warning] Accuracy may be bad since you didn't explicitly set num_leaves OR 2^max_depth > num_leaves. (num_leaves=31).\n",
      "[LightGBM] [Warning] Accuracy may be bad since you didn't explicitly set num_leaves OR 2^max_depth > num_leaves. (num_leaves=31).\n",
      "[LightGBM] [Info] Auto-choosing col-wise multi-threading, the overhead of testing was 0.022576 seconds.\n",
      "You can set `force_col_wise=true` to remove the overhead.\n",
      "[LightGBM] [Info] Total Bins 436\n",
      "[LightGBM] [Info] Number of data points in the train set: 280473, number of used features: 42\n",
      "[LightGBM] [Info] Start training from score 43.407112\n",
      "[LightGBM] [Warning] No further splits with positive gain, best gain: -inf\n",
      "[LightGBM] [Warning] No further splits with positive gain, best gain: -inf\n",
      "[LightGBM] [Warning] No further splits with positive gain, best gain: -inf\n",
      "[LightGBM] [Warning] No further splits with positive gain, best gain: -inf\n",
      "[LightGBM] [Warning] No further splits with positive gain, best gain: -inf\n",
      "[LightGBM] [Warning] No further splits with positive gain, best gain: -inf\n",
      "[LightGBM] [Warning] No further splits with positive gain, best gain: -inf\n",
      "[LightGBM] [Warning] No further splits with positive gain, best gain: -inf\n",
      "[LightGBM] [Warning] No further splits with positive gain, best gain: -inf\n",
      "[LightGBM] [Warning] No further splits with positive gain, best gain: -inf\n",
      "[LightGBM] [Warning] No further splits with positive gain, best gain: -inf\n",
      "[LightGBM] [Warning] No further splits with positive gain, best gain: -inf\n",
      "[LightGBM] [Warning] No further splits with positive gain, best gain: -inf\n",
      "[LightGBM] [Warning] No further splits with positive gain, best gain: -inf\n",
      "[LightGBM] [Warning] No further splits with positive gain, best gain: -inf\n",
      "[LightGBM] [Warning] No further splits with positive gain, best gain: -inf\n",
      "[LightGBM] [Warning] No further splits with positive gain, best gain: -inf\n",
      "[LightGBM] [Warning] No further splits with positive gain, best gain: -inf\n",
      "[LightGBM] [Warning] No further splits with positive gain, best gain: -inf\n",
      "[LightGBM] [Warning] No further splits with positive gain, best gain: -inf\n",
      "[LightGBM] [Warning] No further splits with positive gain, best gain: -inf\n",
      "[LightGBM] [Warning] No further splits with positive gain, best gain: -inf\n",
      "[LightGBM] [Warning] No further splits with positive gain, best gain: -inf\n",
      "[LightGBM] [Warning] No further splits with positive gain, best gain: -inf\n",
      "[LightGBM] [Warning] No further splits with positive gain, best gain: -inf\n",
      "[LightGBM] [Warning] No further splits with positive gain, best gain: -inf\n",
      "[LightGBM] [Warning] No further splits with positive gain, best gain: -inf\n",
      "[LightGBM] [Warning] No further splits with positive gain, best gain: -inf\n",
      "[LightGBM] [Warning] No further splits with positive gain, best gain: -inf\n",
      "[LightGBM] [Warning] No further splits with positive gain, best gain: -inf\n",
      "[LightGBM] [Warning] No further splits with positive gain, best gain: -inf\n",
      "[LightGBM] [Warning] No further splits with positive gain, best gain: -inf\n",
      "[LightGBM] [Warning] No further splits with positive gain, best gain: -inf\n",
      "[LightGBM] [Warning] No further splits with positive gain, best gain: -inf\n",
      "[LightGBM] [Warning] No further splits with positive gain, best gain: -inf\n",
      "[LightGBM] [Warning] No further splits with positive gain, best gain: -inf\n",
      "[LightGBM] [Warning] No further splits with positive gain, best gain: -inf\n",
      "[LightGBM] [Warning] No further splits with positive gain, best gain: -inf\n",
      "[LightGBM] [Warning] No further splits with positive gain, best gain: -inf\n",
      "[LightGBM] [Warning] No further splits with positive gain, best gain: -inf\n",
      "[LightGBM] [Warning] No further splits with positive gain, best gain: -inf\n",
      "[LightGBM] [Warning] No further splits with positive gain, best gain: -inf\n",
      "[LightGBM] [Warning] No further splits with positive gain, best gain: -inf\n",
      "[LightGBM] [Warning] No further splits with positive gain, best gain: -inf\n",
      "[LightGBM] [Warning] No further splits with positive gain, best gain: -inf\n",
      "[LightGBM] [Warning] No further splits with positive gain, best gain: -inf\n",
      "[LightGBM] [Warning] No further splits with positive gain, best gain: -inf\n",
      "[LightGBM] [Warning] No further splits with positive gain, best gain: -inf\n",
      "[LightGBM] [Warning] No further splits with positive gain, best gain: -inf\n",
      "[LightGBM] [Warning] No further splits with positive gain, best gain: -inf\n",
      "[LightGBM] [Warning] No further splits with positive gain, best gain: -inf\n",
      "[LightGBM] [Warning] No further splits with positive gain, best gain: -inf\n",
      "[LightGBM] [Warning] No further splits with positive gain, best gain: -inf\n",
      "[LightGBM] [Warning] No further splits with positive gain, best gain: -inf\n",
      "[LightGBM] [Warning] No further splits with positive gain, best gain: -inf\n",
      "[LightGBM] [Warning] No further splits with positive gain, best gain: -inf\n",
      "[LightGBM] [Warning] No further splits with positive gain, best gain: -inf\n",
      "[LightGBM] [Warning] No further splits with positive gain, best gain: -inf\n",
      "[LightGBM] [Warning] No further splits with positive gain, best gain: -inf\n",
      "[LightGBM] [Warning] No further splits with positive gain, best gain: -inf\n",
      "[LightGBM] [Warning] No further splits with positive gain, best gain: -inf\n",
      "[LightGBM] [Warning] No further splits with positive gain, best gain: -inf\n",
      "[LightGBM] [Warning] No further splits with positive gain, best gain: -inf\n",
      "[LightGBM] [Warning] No further splits with positive gain, best gain: -inf\n",
      "[LightGBM] [Warning] No further splits with positive gain, best gain: -inf\n",
      "[LightGBM] [Warning] No further splits with positive gain, best gain: -inf\n",
      "[LightGBM] [Warning] No further splits with positive gain, best gain: -inf\n",
      "[LightGBM] [Warning] No further splits with positive gain, best gain: -inf\n",
      "[LightGBM] [Warning] No further splits with positive gain, best gain: -inf\n",
      "[LightGBM] [Warning] No further splits with positive gain, best gain: -inf\n",
      "[LightGBM] [Warning] No further splits with positive gain, best gain: -inf\n",
      "[LightGBM] [Warning] No further splits with positive gain, best gain: -inf\n",
      "[LightGBM] [Warning] No further splits with positive gain, best gain: -inf\n",
      "[LightGBM] [Warning] No further splits with positive gain, best gain: -inf\n",
      "[LightGBM] [Warning] No further splits with positive gain, best gain: -inf\n",
      "[LightGBM] [Warning] No further splits with positive gain, best gain: -inf\n",
      "[LightGBM] [Warning] No further splits with positive gain, best gain: -inf\n",
      "[LightGBM] [Warning] No further splits with positive gain, best gain: -inf\n",
      "[LightGBM] [Warning] No further splits with positive gain, best gain: -inf\n",
      "[LightGBM] [Warning] No further splits with positive gain, best gain: -inf\n",
      "[LightGBM] [Warning] No further splits with positive gain, best gain: -inf\n",
      "[LightGBM] [Warning] No further splits with positive gain, best gain: -inf\n",
      "[LightGBM] [Warning] No further splits with positive gain, best gain: -inf\n",
      "[LightGBM] [Warning] No further splits with positive gain, best gain: -inf\n",
      "[LightGBM] [Warning] No further splits with positive gain, best gain: -inf\n",
      "[LightGBM] [Warning] No further splits with positive gain, best gain: -inf\n",
      "[LightGBM] [Warning] No further splits with positive gain, best gain: -inf\n",
      "[LightGBM] [Warning] No further splits with positive gain, best gain: -inf\n",
      "[LightGBM] [Warning] No further splits with positive gain, best gain: -inf\n",
      "[LightGBM] [Warning] No further splits with positive gain, best gain: -inf\n",
      "[LightGBM] [Warning] No further splits with positive gain, best gain: -inf\n",
      "[LightGBM] [Warning] No further splits with positive gain, best gain: -inf\n",
      "[LightGBM] [Warning] No further splits with positive gain, best gain: -inf\n",
      "[LightGBM] [Warning] No further splits with positive gain, best gain: -inf\n",
      "[LightGBM] [Warning] No further splits with positive gain, best gain: -inf\n",
      "[LightGBM] [Warning] No further splits with positive gain, best gain: -inf\n",
      "[LightGBM] [Warning] No further splits with positive gain, best gain: -inf\n",
      "[LightGBM] [Warning] No further splits with positive gain, best gain: -inf\n",
      "[LightGBM] [Warning] No further splits with positive gain, best gain: -inf\n",
      "[LightGBM] [Warning] No further splits with positive gain, best gain: -inf\n",
      "[LightGBM] [Warning] No further splits with positive gain, best gain: -inf\n",
      "[LightGBM] [Warning] No further splits with positive gain, best gain: -inf\n",
      "[LightGBM] [Warning] No further splits with positive gain, best gain: -inf\n",
      "[LightGBM] [Warning] No further splits with positive gain, best gain: -inf\n",
      "[LightGBM] [Warning] No further splits with positive gain, best gain: -inf\n",
      "[LightGBM] [Warning] No further splits with positive gain, best gain: -inf\n",
      "[LightGBM] [Warning] No further splits with positive gain, best gain: -inf\n",
      "[LightGBM] [Warning] No further splits with positive gain, best gain: -inf\n",
      "[LightGBM] [Warning] No further splits with positive gain, best gain: -inf\n",
      "[LightGBM] [Warning] No further splits with positive gain, best gain: -inf\n",
      "[LightGBM] [Warning] No further splits with positive gain, best gain: -inf\n",
      "[LightGBM] [Warning] No further splits with positive gain, best gain: -inf\n",
      "[LightGBM] [Warning] No further splits with positive gain, best gain: -inf\n",
      "[LightGBM] [Warning] No further splits with positive gain, best gain: -inf\n",
      "[LightGBM] [Warning] No further splits with positive gain, best gain: -inf\n",
      "[LightGBM] [Warning] No further splits with positive gain, best gain: -inf\n",
      "[LightGBM] [Warning] No further splits with positive gain, best gain: -inf\n",
      "[LightGBM] [Warning] No further splits with positive gain, best gain: -inf\n",
      "[LightGBM] [Warning] No further splits with positive gain, best gain: -inf\n",
      "[LightGBM] [Warning] No further splits with positive gain, best gain: -inf\n",
      "[LightGBM] [Warning] No further splits with positive gain, best gain: -inf\n",
      "[LightGBM] [Warning] No further splits with positive gain, best gain: -inf\n",
      "[LightGBM] [Warning] No further splits with positive gain, best gain: -inf\n",
      "[LightGBM] [Warning] No further splits with positive gain, best gain: -inf\n",
      "[LightGBM] [Warning] No further splits with positive gain, best gain: -inf\n",
      "[LightGBM] [Warning] No further splits with positive gain, best gain: -inf\n",
      "[LightGBM] [Warning] No further splits with positive gain, best gain: -inf\n",
      "[LightGBM] [Warning] No further splits with positive gain, best gain: -inf\n",
      "[LightGBM] [Warning] No further splits with positive gain, best gain: -inf\n",
      "[LightGBM] [Warning] No further splits with positive gain, best gain: -inf\n",
      "[LightGBM] [Warning] No further splits with positive gain, best gain: -inf\n",
      "[LightGBM] [Warning] No further splits with positive gain, best gain: -inf\n",
      "[LightGBM] [Warning] No further splits with positive gain, best gain: -inf\n",
      "[LightGBM] [Warning] No further splits with positive gain, best gain: -inf\n",
      "[LightGBM] [Warning] No further splits with positive gain, best gain: -inf\n",
      "[LightGBM] [Warning] No further splits with positive gain, best gain: -inf\n",
      "[LightGBM] [Warning] No further splits with positive gain, best gain: -inf\n",
      "[LightGBM] [Warning] No further splits with positive gain, best gain: -inf\n",
      "[LightGBM] [Warning] No further splits with positive gain, best gain: -inf\n",
      "[LightGBM] [Warning] No further splits with positive gain, best gain: -inf\n",
      "[LightGBM] [Warning] No further splits with positive gain, best gain: -inf\n",
      "[LightGBM] [Warning] No further splits with positive gain, best gain: -inf\n",
      "[LightGBM] [Warning] No further splits with positive gain, best gain: -inf\n",
      "[LightGBM] [Warning] No further splits with positive gain, best gain: -inf\n",
      "[LightGBM] [Warning] No further splits with positive gain, best gain: -inf\n",
      "[LightGBM] [Warning] No further splits with positive gain, best gain: -inf\n",
      "[LightGBM] [Warning] No further splits with positive gain, best gain: -inf\n",
      "[LightGBM] [Warning] No further splits with positive gain, best gain: -inf\n",
      "[LightGBM] [Warning] No further splits with positive gain, best gain: -inf\n",
      "[LightGBM] [Warning] No further splits with positive gain, best gain: -inf\n",
      "[LightGBM] [Warning] No further splits with positive gain, best gain: -inf\n",
      "[LightGBM] [Warning] No further splits with positive gain, best gain: -inf\n",
      "[LightGBM] [Warning] No further splits with positive gain, best gain: -inf\n",
      "[LightGBM] [Warning] No further splits with positive gain, best gain: -inf\n",
      "[LightGBM] [Warning] No further splits with positive gain, best gain: -inf\n",
      "[LightGBM] [Warning] No further splits with positive gain, best gain: -inf\n",
      "[LightGBM] [Warning] No further splits with positive gain, best gain: -inf\n",
      "[LightGBM] [Warning] No further splits with positive gain, best gain: -inf\n",
      "[LightGBM] [Warning] No further splits with positive gain, best gain: -inf\n",
      "[LightGBM] [Warning] No further splits with positive gain, best gain: -inf\n",
      "[LightGBM] [Warning] No further splits with positive gain, best gain: -inf\n"
     ]
    },
    {
     "data": {
      "text/html": [
       "<style>#sk-container-id-4 {color: black;}#sk-container-id-4 pre{padding: 0;}#sk-container-id-4 div.sk-toggleable {background-color: white;}#sk-container-id-4 label.sk-toggleable__label {cursor: pointer;display: block;width: 100%;margin-bottom: 0;padding: 0.3em;box-sizing: border-box;text-align: center;}#sk-container-id-4 label.sk-toggleable__label-arrow:before {content: \"▸\";float: left;margin-right: 0.25em;color: #696969;}#sk-container-id-4 label.sk-toggleable__label-arrow:hover:before {color: black;}#sk-container-id-4 div.sk-estimator:hover label.sk-toggleable__label-arrow:before {color: black;}#sk-container-id-4 div.sk-toggleable__content {max-height: 0;max-width: 0;overflow: hidden;text-align: left;background-color: #f0f8ff;}#sk-container-id-4 div.sk-toggleable__content pre {margin: 0.2em;color: black;border-radius: 0.25em;background-color: #f0f8ff;}#sk-container-id-4 input.sk-toggleable__control:checked~div.sk-toggleable__content {max-height: 200px;max-width: 100%;overflow: auto;}#sk-container-id-4 input.sk-toggleable__control:checked~label.sk-toggleable__label-arrow:before {content: \"▾\";}#sk-container-id-4 div.sk-estimator input.sk-toggleable__control:checked~label.sk-toggleable__label {background-color: #d4ebff;}#sk-container-id-4 div.sk-label input.sk-toggleable__control:checked~label.sk-toggleable__label {background-color: #d4ebff;}#sk-container-id-4 input.sk-hidden--visually {border: 0;clip: rect(1px 1px 1px 1px);clip: rect(1px, 1px, 1px, 1px);height: 1px;margin: -1px;overflow: hidden;padding: 0;position: absolute;width: 1px;}#sk-container-id-4 div.sk-estimator {font-family: monospace;background-color: #f0f8ff;border: 1px dotted black;border-radius: 0.25em;box-sizing: border-box;margin-bottom: 0.5em;}#sk-container-id-4 div.sk-estimator:hover {background-color: #d4ebff;}#sk-container-id-4 div.sk-parallel-item::after {content: \"\";width: 100%;border-bottom: 1px solid gray;flex-grow: 1;}#sk-container-id-4 div.sk-label:hover label.sk-toggleable__label {background-color: #d4ebff;}#sk-container-id-4 div.sk-serial::before {content: \"\";position: absolute;border-left: 1px solid gray;box-sizing: border-box;top: 0;bottom: 0;left: 50%;z-index: 0;}#sk-container-id-4 div.sk-serial {display: flex;flex-direction: column;align-items: center;background-color: white;padding-right: 0.2em;padding-left: 0.2em;position: relative;}#sk-container-id-4 div.sk-item {position: relative;z-index: 1;}#sk-container-id-4 div.sk-parallel {display: flex;align-items: stretch;justify-content: center;background-color: white;position: relative;}#sk-container-id-4 div.sk-item::before, #sk-container-id-4 div.sk-parallel-item::before {content: \"\";position: absolute;border-left: 1px solid gray;box-sizing: border-box;top: 0;bottom: 0;left: 50%;z-index: -1;}#sk-container-id-4 div.sk-parallel-item {display: flex;flex-direction: column;z-index: 1;position: relative;background-color: white;}#sk-container-id-4 div.sk-parallel-item:first-child::after {align-self: flex-end;width: 50%;}#sk-container-id-4 div.sk-parallel-item:last-child::after {align-self: flex-start;width: 50%;}#sk-container-id-4 div.sk-parallel-item:only-child::after {width: 0;}#sk-container-id-4 div.sk-dashed-wrapped {border: 1px dashed gray;margin: 0 0.4em 0.5em 0.4em;box-sizing: border-box;padding-bottom: 0.4em;background-color: white;}#sk-container-id-4 div.sk-label label {font-family: monospace;font-weight: bold;display: inline-block;line-height: 1.2em;}#sk-container-id-4 div.sk-label-container {text-align: center;}#sk-container-id-4 div.sk-container {/* jupyter's `normalize.less` sets `[hidden] { display: none; }` but bootstrap.min.css set `[hidden] { display: none !important; }` so we also need the `!important` here to be able to override the default hidden behavior on the sphinx rendered scikit-learn.org. See: https://github.com/scikit-learn/scikit-learn/issues/21755 */display: inline-block !important;position: relative;}#sk-container-id-4 div.sk-text-repr-fallback {display: none;}</style><div id=\"sk-container-id-4\" class=\"sk-top-container\"><div class=\"sk-text-repr-fallback\"><pre>GridSearchCV(cv=5, estimator=LGBMRegressor(), n_jobs=-1,\n",
       "             param_grid={&#x27;colsample_bytree&#x27;: [0.4, 0.5, 0.6, 0.9, 1],\n",
       "                         &#x27;learning_rate&#x27;: [0.01, 0.1, 0.5, 1],\n",
       "                         &#x27;max_depth&#x27;: [2, 3, 4, 5, 6],\n",
       "                         &#x27;n_estimators&#x27;: [100, 200, 500]},\n",
       "             verbose=2)</pre><b>In a Jupyter environment, please rerun this cell to show the HTML representation or trust the notebook. <br />On GitHub, the HTML representation is unable to render, please try loading this page with nbviewer.org.</b></div><div class=\"sk-container\" hidden><div class=\"sk-item sk-dashed-wrapped\"><div class=\"sk-label-container\"><div class=\"sk-label sk-toggleable\"><input class=\"sk-toggleable__control sk-hidden--visually\" id=\"sk-estimator-id-4\" type=\"checkbox\" ><label for=\"sk-estimator-id-4\" class=\"sk-toggleable__label sk-toggleable__label-arrow\">GridSearchCV</label><div class=\"sk-toggleable__content\"><pre>GridSearchCV(cv=5, estimator=LGBMRegressor(), n_jobs=-1,\n",
       "             param_grid={&#x27;colsample_bytree&#x27;: [0.4, 0.5, 0.6, 0.9, 1],\n",
       "                         &#x27;learning_rate&#x27;: [0.01, 0.1, 0.5, 1],\n",
       "                         &#x27;max_depth&#x27;: [2, 3, 4, 5, 6],\n",
       "                         &#x27;n_estimators&#x27;: [100, 200, 500]},\n",
       "             verbose=2)</pre></div></div></div><div class=\"sk-parallel\"><div class=\"sk-parallel-item\"><div class=\"sk-item\"><div class=\"sk-label-container\"><div class=\"sk-label sk-toggleable\"><input class=\"sk-toggleable__control sk-hidden--visually\" id=\"sk-estimator-id-5\" type=\"checkbox\" ><label for=\"sk-estimator-id-5\" class=\"sk-toggleable__label sk-toggleable__label-arrow\">estimator: LGBMRegressor</label><div class=\"sk-toggleable__content\"><pre>LGBMRegressor()</pre></div></div></div><div class=\"sk-serial\"><div class=\"sk-item\"><div class=\"sk-estimator sk-toggleable\"><input class=\"sk-toggleable__control sk-hidden--visually\" id=\"sk-estimator-id-6\" type=\"checkbox\" ><label for=\"sk-estimator-id-6\" class=\"sk-toggleable__label sk-toggleable__label-arrow\">LGBMRegressor</label><div class=\"sk-toggleable__content\"><pre>LGBMRegressor()</pre></div></div></div></div></div></div></div></div></div></div>"
      ],
      "text/plain": [
       "GridSearchCV(cv=5, estimator=LGBMRegressor(), n_jobs=-1,\n",
       "             param_grid={'colsample_bytree': [0.4, 0.5, 0.6, 0.9, 1],\n",
       "                         'learning_rate': [0.01, 0.1, 0.5, 1],\n",
       "                         'max_depth': [2, 3, 4, 5, 6],\n",
       "                         'n_estimators': [100, 200, 500]},\n",
       "             verbose=2)"
      ]
     },
     "execution_count": 136,
     "metadata": {},
     "output_type": "execute_result"
    }
   ],
   "source": [
    "lgbm_cv_model.fit(X_train,y_train)"
   ]
  },
  {
   "cell_type": "code",
   "execution_count": 137,
   "id": "e8ae3f55-763e-4867-b2bb-c3949953dd7e",
   "metadata": {},
   "outputs": [
    {
     "data": {
      "text/plain": [
       "{'colsample_bytree': 1,\n",
       " 'learning_rate': 0.5,\n",
       " 'max_depth': 6,\n",
       " 'n_estimators': 500}"
      ]
     },
     "execution_count": 137,
     "metadata": {},
     "output_type": "execute_result"
    }
   ],
   "source": [
    "lgbm_cv_model.best_params_"
   ]
  },
  {
   "cell_type": "code",
   "execution_count": null,
   "id": "e9d9a318-5053-4e7c-a277-47606a15d522",
   "metadata": {},
   "outputs": [],
   "source": [
    "#Final Model"
   ]
  },
  {
   "cell_type": "code",
   "execution_count": 141,
   "id": "1d7e537a-c626-4163-9b7a-0917dacd0783",
   "metadata": {},
   "outputs": [],
   "source": [
    "lgbm_tuned=LGBMRegressor(colsample_bytree= 1,\n",
    "                        learning_rate= 0.5,\n",
    "                        max_depth= 6,\n",
    "                        n_estimators= 500)\n",
    "                        "
   ]
  },
  {
   "cell_type": "code",
   "execution_count": 142,
   "id": "0fce667c-f892-457b-9acc-29219f291840",
   "metadata": {
    "collapsed": true,
    "jupyter": {
     "outputs_hidden": true
    },
    "tags": []
   },
   "outputs": [
    {
     "name": "stdout",
     "output_type": "stream",
     "text": [
      "[LightGBM] [Warning] Accuracy may be bad since you didn't explicitly set num_leaves OR 2^max_depth > num_leaves. (num_leaves=31).\n",
      "[LightGBM] [Warning] Accuracy may be bad since you didn't explicitly set num_leaves OR 2^max_depth > num_leaves. (num_leaves=31).\n",
      "[LightGBM] [Info] Auto-choosing row-wise multi-threading, the overhead of testing was 0.003187 seconds.\n",
      "You can set `force_row_wise=true` to remove the overhead.\n",
      "And if memory is not enough, you can set `force_col_wise=true`.\n",
      "[LightGBM] [Info] Total Bins 436\n",
      "[LightGBM] [Info] Number of data points in the train set: 280473, number of used features: 42\n",
      "[LightGBM] [Info] Start training from score 43.407112\n",
      "[LightGBM] [Warning] No further splits with positive gain, best gain: -inf\n",
      "[LightGBM] [Warning] No further splits with positive gain, best gain: -inf\n",
      "[LightGBM] [Warning] No further splits with positive gain, best gain: -inf\n",
      "[LightGBM] [Warning] No further splits with positive gain, best gain: -inf\n",
      "[LightGBM] [Warning] No further splits with positive gain, best gain: -inf\n",
      "[LightGBM] [Warning] No further splits with positive gain, best gain: -inf\n",
      "[LightGBM] [Warning] No further splits with positive gain, best gain: -inf\n",
      "[LightGBM] [Warning] No further splits with positive gain, best gain: -inf\n",
      "[LightGBM] [Warning] No further splits with positive gain, best gain: -inf\n",
      "[LightGBM] [Warning] No further splits with positive gain, best gain: -inf\n",
      "[LightGBM] [Warning] No further splits with positive gain, best gain: -inf\n",
      "[LightGBM] [Warning] No further splits with positive gain, best gain: -inf\n",
      "[LightGBM] [Warning] No further splits with positive gain, best gain: -inf\n",
      "[LightGBM] [Warning] No further splits with positive gain, best gain: -inf\n",
      "[LightGBM] [Warning] No further splits with positive gain, best gain: -inf\n",
      "[LightGBM] [Warning] No further splits with positive gain, best gain: -inf\n",
      "[LightGBM] [Warning] No further splits with positive gain, best gain: -inf\n",
      "[LightGBM] [Warning] No further splits with positive gain, best gain: -inf\n",
      "[LightGBM] [Warning] No further splits with positive gain, best gain: -inf\n",
      "[LightGBM] [Warning] No further splits with positive gain, best gain: -inf\n",
      "[LightGBM] [Warning] No further splits with positive gain, best gain: -inf\n",
      "[LightGBM] [Warning] No further splits with positive gain, best gain: -inf\n",
      "[LightGBM] [Warning] No further splits with positive gain, best gain: -inf\n",
      "[LightGBM] [Warning] No further splits with positive gain, best gain: -inf\n",
      "[LightGBM] [Warning] No further splits with positive gain, best gain: -inf\n",
      "[LightGBM] [Warning] No further splits with positive gain, best gain: -inf\n",
      "[LightGBM] [Warning] No further splits with positive gain, best gain: -inf\n",
      "[LightGBM] [Warning] No further splits with positive gain, best gain: -inf\n",
      "[LightGBM] [Warning] No further splits with positive gain, best gain: -inf\n",
      "[LightGBM] [Warning] No further splits with positive gain, best gain: -inf\n",
      "[LightGBM] [Warning] No further splits with positive gain, best gain: -inf\n",
      "[LightGBM] [Warning] No further splits with positive gain, best gain: -inf\n",
      "[LightGBM] [Warning] No further splits with positive gain, best gain: -inf\n",
      "[LightGBM] [Warning] No further splits with positive gain, best gain: -inf\n",
      "[LightGBM] [Warning] No further splits with positive gain, best gain: -inf\n",
      "[LightGBM] [Warning] No further splits with positive gain, best gain: -inf\n",
      "[LightGBM] [Warning] No further splits with positive gain, best gain: -inf\n",
      "[LightGBM] [Warning] No further splits with positive gain, best gain: -inf\n",
      "[LightGBM] [Warning] No further splits with positive gain, best gain: -inf\n",
      "[LightGBM] [Warning] No further splits with positive gain, best gain: -inf\n",
      "[LightGBM] [Warning] No further splits with positive gain, best gain: -inf\n",
      "[LightGBM] [Warning] No further splits with positive gain, best gain: -inf\n",
      "[LightGBM] [Warning] No further splits with positive gain, best gain: -inf\n",
      "[LightGBM] [Warning] No further splits with positive gain, best gain: -inf\n",
      "[LightGBM] [Warning] No further splits with positive gain, best gain: -inf\n",
      "[LightGBM] [Warning] No further splits with positive gain, best gain: -inf\n",
      "[LightGBM] [Warning] No further splits with positive gain, best gain: -inf\n",
      "[LightGBM] [Warning] No further splits with positive gain, best gain: -inf\n",
      "[LightGBM] [Warning] No further splits with positive gain, best gain: -inf\n",
      "[LightGBM] [Warning] No further splits with positive gain, best gain: -inf\n",
      "[LightGBM] [Warning] No further splits with positive gain, best gain: -inf\n",
      "[LightGBM] [Warning] No further splits with positive gain, best gain: -inf\n",
      "[LightGBM] [Warning] No further splits with positive gain, best gain: -inf\n",
      "[LightGBM] [Warning] No further splits with positive gain, best gain: -inf\n",
      "[LightGBM] [Warning] No further splits with positive gain, best gain: -inf\n",
      "[LightGBM] [Warning] No further splits with positive gain, best gain: -inf\n",
      "[LightGBM] [Warning] No further splits with positive gain, best gain: -inf\n",
      "[LightGBM] [Warning] No further splits with positive gain, best gain: -inf\n",
      "[LightGBM] [Warning] No further splits with positive gain, best gain: -inf\n",
      "[LightGBM] [Warning] No further splits with positive gain, best gain: -inf\n",
      "[LightGBM] [Warning] No further splits with positive gain, best gain: -inf\n",
      "[LightGBM] [Warning] No further splits with positive gain, best gain: -inf\n",
      "[LightGBM] [Warning] No further splits with positive gain, best gain: -inf\n",
      "[LightGBM] [Warning] No further splits with positive gain, best gain: -inf\n",
      "[LightGBM] [Warning] No further splits with positive gain, best gain: -inf\n",
      "[LightGBM] [Warning] No further splits with positive gain, best gain: -inf\n",
      "[LightGBM] [Warning] No further splits with positive gain, best gain: -inf\n",
      "[LightGBM] [Warning] No further splits with positive gain, best gain: -inf\n",
      "[LightGBM] [Warning] No further splits with positive gain, best gain: -inf\n",
      "[LightGBM] [Warning] No further splits with positive gain, best gain: -inf\n",
      "[LightGBM] [Warning] No further splits with positive gain, best gain: -inf\n",
      "[LightGBM] [Warning] No further splits with positive gain, best gain: -inf\n",
      "[LightGBM] [Warning] No further splits with positive gain, best gain: -inf\n",
      "[LightGBM] [Warning] No further splits with positive gain, best gain: -inf\n",
      "[LightGBM] [Warning] No further splits with positive gain, best gain: -inf\n",
      "[LightGBM] [Warning] No further splits with positive gain, best gain: -inf\n",
      "[LightGBM] [Warning] No further splits with positive gain, best gain: -inf\n",
      "[LightGBM] [Warning] No further splits with positive gain, best gain: -inf\n",
      "[LightGBM] [Warning] No further splits with positive gain, best gain: -inf\n",
      "[LightGBM] [Warning] No further splits with positive gain, best gain: -inf\n",
      "[LightGBM] [Warning] No further splits with positive gain, best gain: -inf\n",
      "[LightGBM] [Warning] No further splits with positive gain, best gain: -inf\n",
      "[LightGBM] [Warning] No further splits with positive gain, best gain: -inf\n",
      "[LightGBM] [Warning] No further splits with positive gain, best gain: -inf\n",
      "[LightGBM] [Warning] No further splits with positive gain, best gain: -inf\n",
      "[LightGBM] [Warning] No further splits with positive gain, best gain: -inf\n",
      "[LightGBM] [Warning] No further splits with positive gain, best gain: -inf\n",
      "[LightGBM] [Warning] No further splits with positive gain, best gain: -inf\n",
      "[LightGBM] [Warning] No further splits with positive gain, best gain: -inf\n",
      "[LightGBM] [Warning] No further splits with positive gain, best gain: -inf\n",
      "[LightGBM] [Warning] No further splits with positive gain, best gain: -inf\n",
      "[LightGBM] [Warning] No further splits with positive gain, best gain: -inf\n",
      "[LightGBM] [Warning] No further splits with positive gain, best gain: -inf\n",
      "[LightGBM] [Warning] No further splits with positive gain, best gain: -inf\n",
      "[LightGBM] [Warning] No further splits with positive gain, best gain: -inf\n",
      "[LightGBM] [Warning] No further splits with positive gain, best gain: -inf\n",
      "[LightGBM] [Warning] No further splits with positive gain, best gain: -inf\n",
      "[LightGBM] [Warning] No further splits with positive gain, best gain: -inf\n",
      "[LightGBM] [Warning] No further splits with positive gain, best gain: -inf\n",
      "[LightGBM] [Warning] No further splits with positive gain, best gain: -inf\n",
      "[LightGBM] [Warning] No further splits with positive gain, best gain: -inf\n",
      "[LightGBM] [Warning] No further splits with positive gain, best gain: -inf\n",
      "[LightGBM] [Warning] No further splits with positive gain, best gain: -inf\n",
      "[LightGBM] [Warning] No further splits with positive gain, best gain: -inf\n",
      "[LightGBM] [Warning] No further splits with positive gain, best gain: -inf\n",
      "[LightGBM] [Warning] No further splits with positive gain, best gain: -inf\n",
      "[LightGBM] [Warning] No further splits with positive gain, best gain: -inf\n",
      "[LightGBM] [Warning] No further splits with positive gain, best gain: -inf\n",
      "[LightGBM] [Warning] No further splits with positive gain, best gain: -inf\n",
      "[LightGBM] [Warning] No further splits with positive gain, best gain: -inf\n",
      "[LightGBM] [Warning] No further splits with positive gain, best gain: -inf\n",
      "[LightGBM] [Warning] No further splits with positive gain, best gain: -inf\n",
      "[LightGBM] [Warning] No further splits with positive gain, best gain: -inf\n",
      "[LightGBM] [Warning] No further splits with positive gain, best gain: -inf\n",
      "[LightGBM] [Warning] No further splits with positive gain, best gain: -inf\n",
      "[LightGBM] [Warning] No further splits with positive gain, best gain: -inf\n",
      "[LightGBM] [Warning] No further splits with positive gain, best gain: -inf\n",
      "[LightGBM] [Warning] No further splits with positive gain, best gain: -inf\n",
      "[LightGBM] [Warning] No further splits with positive gain, best gain: -inf\n",
      "[LightGBM] [Warning] No further splits with positive gain, best gain: -inf\n",
      "[LightGBM] [Warning] No further splits with positive gain, best gain: -inf\n",
      "[LightGBM] [Warning] No further splits with positive gain, best gain: -inf\n",
      "[LightGBM] [Warning] No further splits with positive gain, best gain: -inf\n",
      "[LightGBM] [Warning] No further splits with positive gain, best gain: -inf\n",
      "[LightGBM] [Warning] No further splits with positive gain, best gain: -inf\n",
      "[LightGBM] [Warning] No further splits with positive gain, best gain: -inf\n",
      "[LightGBM] [Warning] No further splits with positive gain, best gain: -inf\n",
      "[LightGBM] [Warning] No further splits with positive gain, best gain: -inf\n",
      "[LightGBM] [Warning] No further splits with positive gain, best gain: -inf\n",
      "[LightGBM] [Warning] No further splits with positive gain, best gain: -inf\n",
      "[LightGBM] [Warning] No further splits with positive gain, best gain: -inf\n",
      "[LightGBM] [Warning] No further splits with positive gain, best gain: -inf\n",
      "[LightGBM] [Warning] No further splits with positive gain, best gain: -inf\n",
      "[LightGBM] [Warning] No further splits with positive gain, best gain: -inf\n",
      "[LightGBM] [Warning] No further splits with positive gain, best gain: -inf\n",
      "[LightGBM] [Warning] No further splits with positive gain, best gain: -inf\n",
      "[LightGBM] [Warning] No further splits with positive gain, best gain: -inf\n",
      "[LightGBM] [Warning] No further splits with positive gain, best gain: -inf\n",
      "[LightGBM] [Warning] No further splits with positive gain, best gain: -inf\n",
      "[LightGBM] [Warning] No further splits with positive gain, best gain: -inf\n",
      "[LightGBM] [Warning] No further splits with positive gain, best gain: -inf\n",
      "[LightGBM] [Warning] No further splits with positive gain, best gain: -inf\n",
      "[LightGBM] [Warning] No further splits with positive gain, best gain: -inf\n",
      "[LightGBM] [Warning] No further splits with positive gain, best gain: -inf\n",
      "[LightGBM] [Warning] No further splits with positive gain, best gain: -inf\n",
      "[LightGBM] [Warning] No further splits with positive gain, best gain: -inf\n",
      "[LightGBM] [Warning] No further splits with positive gain, best gain: -inf\n",
      "[LightGBM] [Warning] No further splits with positive gain, best gain: -inf\n",
      "[LightGBM] [Warning] No further splits with positive gain, best gain: -inf\n",
      "[LightGBM] [Warning] No further splits with positive gain, best gain: -inf\n",
      "[LightGBM] [Warning] No further splits with positive gain, best gain: -inf\n",
      "[LightGBM] [Warning] No further splits with positive gain, best gain: -inf\n",
      "[LightGBM] [Warning] No further splits with positive gain, best gain: -inf\n",
      "[LightGBM] [Warning] No further splits with positive gain, best gain: -inf\n",
      "[LightGBM] [Warning] No further splits with positive gain, best gain: -inf\n",
      "[LightGBM] [Warning] No further splits with positive gain, best gain: -inf\n",
      "[LightGBM] [Warning] No further splits with positive gain, best gain: -inf\n",
      "[LightGBM] [Warning] No further splits with positive gain, best gain: -inf\n",
      "[LightGBM] [Warning] No further splits with positive gain, best gain: -inf\n",
      "[LightGBM] [Warning] No further splits with positive gain, best gain: -inf\n",
      "[LightGBM] [Warning] No further splits with positive gain, best gain: -inf\n"
     ]
    }
   ],
   "source": [
    "lgbm_tuned=lgbm_tuned.fit(X_train,y_train)"
   ]
  },
  {
   "cell_type": "code",
   "execution_count": 143,
   "id": "945f44ce-319c-4f71-b8d8-b01578f7999f",
   "metadata": {},
   "outputs": [
    {
     "name": "stdout",
     "output_type": "stream",
     "text": [
      "[LightGBM] [Warning] Accuracy may be bad since you didn't explicitly set num_leaves OR 2^max_depth > num_leaves. (num_leaves=31).\n"
     ]
    }
   ],
   "source": [
    "y_pred=lgbm_tuned.predict(X_test)"
   ]
  },
  {
   "cell_type": "code",
   "execution_count": 144,
   "id": "8b3fc4bb-c03a-4a8c-945d-58c3b950c74a",
   "metadata": {},
   "outputs": [
    {
     "data": {
      "text/plain": [
       "1.1640957554340696"
      ]
     },
     "execution_count": 144,
     "metadata": {},
     "output_type": "execute_result"
    }
   ],
   "source": [
    "np.sqrt(mean_squared_error(y_test,y_pred))"
   ]
  },
  {
   "cell_type": "code",
   "execution_count": null,
   "id": "ea320404-757b-4242-98e2-cb0d284baac2",
   "metadata": {},
   "outputs": [],
   "source": [
    "#tuned model mean_squared_error=1.1640957554340696 bulundu"
   ]
  },
  {
   "cell_type": "code",
   "execution_count": 159,
   "id": "fc5f556e-aaba-491e-ba21-31eb9f1539c2",
   "metadata": {},
   "outputs": [],
   "source": [
    "#Save The LightGBM Final Model"
   ]
  },
  {
   "cell_type": "code",
   "execution_count": 162,
   "id": "af2a77b0-21ca-44b8-9736-9356627073c6",
   "metadata": {},
   "outputs": [],
   "source": [
    "import joblib"
   ]
  },
  {
   "cell_type": "code",
   "execution_count": 163,
   "id": "d20436c9-be04-4fd2-a3f1-ac82656549a1",
   "metadata": {},
   "outputs": [
    {
     "data": {
      "text/plain": [
       "['model_jlib']"
      ]
     },
     "execution_count": 163,
     "metadata": {},
     "output_type": "execute_result"
    }
   ],
   "source": [
    "# saving our model\n",
    "joblib.dump(lgbm_tuned , 'model_jlib')"
   ]
  },
  {
   "cell_type": "code",
   "execution_count": null,
   "id": "f876d630-43d2-4d34-a14b-276ee8e2bd38",
   "metadata": {},
   "outputs": [],
   "source": [
    "# opening the file- model_jlib\n",
    "# m_jlib = joblib.load('model_jlib')"
   ]
  },
  {
   "cell_type": "code",
   "execution_count": null,
   "id": "35a90a37-784f-42d7-9ba3-f7af95b7f043",
   "metadata": {},
   "outputs": [],
   "source": [
    "# call prediction\n",
    "# m_jlib.predict([[values]])"
   ]
  },
  {
   "cell_type": "code",
   "execution_count": null,
   "id": "84a0e4dc-dc28-44ae-87a2-99860ecd77d6",
   "metadata": {},
   "outputs": [],
   "source": []
  },
  {
   "cell_type": "code",
   "execution_count": null,
   "id": "1f4f1ece-1043-4fd8-94be-5b30ad03a576",
   "metadata": {},
   "outputs": [],
   "source": []
  }
 ],
 "metadata": {
  "kernelspec": {
   "display_name": "Python 3 (ipykernel)",
   "language": "python",
   "name": "python3"
  },
  "language_info": {
   "codemirror_mode": {
    "name": "ipython",
    "version": 3
   },
   "file_extension": ".py",
   "mimetype": "text/x-python",
   "name": "python",
   "nbconvert_exporter": "python",
   "pygments_lexer": "ipython3",
   "version": "3.9.18"
  }
 },
 "nbformat": 4,
 "nbformat_minor": 5
}
